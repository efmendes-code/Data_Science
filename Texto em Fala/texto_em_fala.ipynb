{
 "cells": [
  {
   "cell_type": "markdown",
   "id": "99a2943b",
   "metadata": {},
   "source": [
    "# Convertendo texto em fala com Python"
   ]
  },
  {
   "cell_type": "code",
   "execution_count": 9,
   "id": "6167cae8",
   "metadata": {},
   "outputs": [],
   "source": [
    "# Importando as bibliotecas\n",
    "# Caso não encontre o comando para instalar\n",
    "# pip install pyttsx3\n",
    "import pyttsx3"
   ]
  },
  {
   "cell_type": "code",
   "execution_count": 10,
   "id": "34d7a785",
   "metadata": {},
   "outputs": [],
   "source": [
    "# Carrega a lib - instanciando o objeto engine\n",
    "engine = pyttsx3.init()"
   ]
  },
  {
   "cell_type": "code",
   "execution_count": 11,
   "id": "888e2392",
   "metadata": {},
   "outputs": [],
   "source": [
    "# Texto que a engine vai falar\n",
    "engine.say('Olá, como você está?')\n",
    "engine.say('Em qual linguagem você programa?')"
   ]
  },
  {
   "cell_type": "code",
   "execution_count": 12,
   "id": "ba562846",
   "metadata": {},
   "outputs": [],
   "source": [
    "# Executando\n",
    "engine.runAndWait()"
   ]
  },
  {
   "cell_type": "code",
   "execution_count": null,
   "id": "f6642b9b",
   "metadata": {},
   "outputs": [],
   "source": []
  }
 ],
 "metadata": {
  "kernelspec": {
   "display_name": "Python 3 (ipykernel)",
   "language": "python",
   "name": "python3"
  },
  "language_info": {
   "codemirror_mode": {
    "name": "ipython",
    "version": 3
   },
   "file_extension": ".py",
   "mimetype": "text/x-python",
   "name": "python",
   "nbconvert_exporter": "python",
   "pygments_lexer": "ipython3",
   "version": "3.9.7"
  }
 },
 "nbformat": 4,
 "nbformat_minor": 5
}
