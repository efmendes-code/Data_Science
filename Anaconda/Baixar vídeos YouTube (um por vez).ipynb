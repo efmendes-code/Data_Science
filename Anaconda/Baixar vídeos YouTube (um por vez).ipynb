{
 "cells": [
  {
   "cell_type": "markdown",
   "id": "9601bbbf",
   "metadata": {},
   "source": [
    "# BAIXAR VÍDEO DO YOUTUBE\n"
   ]
  },
  {
   "cell_type": "code",
   "execution_count": 2,
   "id": "e7cc8c64",
   "metadata": {},
   "outputs": [
    {
     "name": "stdout",
     "output_type": "stream",
     "text": [
      "Collecting pytube\n",
      "  Downloading pytube-11.0.2-py3-none-any.whl (56 kB)\n",
      "Installing collected packages: pytube\n",
      "Successfully installed pytube-11.0.2\n"
     ]
    }
   ],
   "source": [
    "!pip install pytube"
   ]
  },
  {
   "cell_type": "code",
   "execution_count": 3,
   "id": "cf64ca45",
   "metadata": {},
   "outputs": [],
   "source": [
    "from pytube import YouTube"
   ]
  },
  {
   "cell_type": "code",
   "execution_count": 4,
   "id": "cf31a7db",
   "metadata": {},
   "outputs": [
    {
     "name": "stdout",
     "output_type": "stream",
     "text": [
      "Digite o link do vídeo que você quer baixar: https://www.youtube.com/watch?v=YQe6NzIUV80\n",
      "Digite o diretório que deseja salvar o video: c:/ Ytdownloads\n"
     ]
    }
   ],
   "source": [
    "link = input('Digite o link do vídeo que você quer baixar: ')\n",
    "path = input('Digite o diretório que deseja salvar o video: ')\n",
    "yt= YouTube(link)"
   ]
  },
  {
   "cell_type": "code",
   "execution_count": 6,
   "id": "a848c2da",
   "metadata": {},
   "outputs": [
    {
     "name": "stdout",
     "output_type": "stream",
     "text": [
      "Título:  \"Got to Be There - Chaka Khan\" (Bass Cover by RGuizzo)\n",
      "Autor:  Rodrigo Guizzo\n",
      "Número de Views:  13\n",
      "Avaliação do vídeo:  None\n"
     ]
    }
   ],
   "source": [
    "print('Título: ', yt.title)\n",
    "print('Autor: ', yt.author)\n",
    "print('Número de Views: ', yt.views)\n",
    "print('Avaliação do vídeo: ', yt.rating)"
   ]
  },
  {
   "cell_type": "code",
   "execution_count": 7,
   "id": "250bd2dd",
   "metadata": {},
   "outputs": [],
   "source": [
    "ys = yt.streams.get_highest_resolution()"
   ]
  },
  {
   "cell_type": "code",
   "execution_count": 8,
   "id": "465e10f4",
   "metadata": {},
   "outputs": [
    {
     "name": "stdout",
     "output_type": "stream",
     "text": [
      "Baixando...\n",
      "Download Completo\n"
     ]
    }
   ],
   "source": [
    "print('Baixando...')\n",
    "ys.download(path)\n",
    "print('Download Completo')"
   ]
  },
  {
   "cell_type": "code",
   "execution_count": null,
   "id": "b5733b0a",
   "metadata": {},
   "outputs": [],
   "source": []
  }
 ],
 "metadata": {
  "kernelspec": {
   "display_name": "Python 3 (ipykernel)",
   "language": "python",
   "name": "python3"
  },
  "language_info": {
   "codemirror_mode": {
    "name": "ipython",
    "version": 3
   },
   "file_extension": ".py",
   "mimetype": "text/x-python",
   "name": "python",
   "nbconvert_exporter": "python",
   "pygments_lexer": "ipython3",
   "version": "3.9.7"
  }
 },
 "nbformat": 4,
 "nbformat_minor": 5
}
