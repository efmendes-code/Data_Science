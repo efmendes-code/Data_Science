{
 "cells": [
  {
   "cell_type": "code",
   "execution_count": 4,
   "id": "a7d8dd76",
   "metadata": {},
   "outputs": [],
   "source": [
    "# Importação das bibliotecas\n",
    "from tkinter import *\n",
    "from tkinter import ttk\n",
    "from PIL import ImageTk, Image\n",
    "\n",
    "import requests\n",
    "import json"
   ]
  },
  {
   "cell_type": "code",
   "execution_count": 5,
   "id": "fb1e40fb",
   "metadata": {},
   "outputs": [],
   "source": [
    "# Definição de cores\n",
    "\n",
    "co0 = '#444466' # preto\n",
    "co1 = '#feffff' # branca\n",
    "co2 = '#6f9fbd' #azul\n",
    "\n",
    "fundo = '#484f60'"
   ]
  },
  {
   "cell_type": "code",
   "execution_count": 7,
   "id": "c75bf69d",
   "metadata": {},
   "outputs": [],
   "source": [
    "# Criando a janela\n",
    "janela = Tk()\n",
    "janela.title('')\n",
    "janela.geometry('320x250')\n",
    "janela.configure(bg=fundo)\n",
    "\n",
    "# Dividindo a janela em 2 frames\n",
    "ttk.Separator(janela, orient=HORIZONTAL).grid(row=0, columnspan=1, ipadx=157)\n",
    "\n",
    "frame_cima = Frame(janela, width=320, height=50, bg=co1, pady=0, padx=0, relief='flat')\n",
    "frame_cima.grid(row=1, column=0)\n",
    "\n",
    "frame_baixo = Frame(janela, width=320, height=200, bg=fundo, pady=0, padx=0, relief='flat')\n",
    "frame_baixo.grid(row=2, column=0, sticky=NW)\n",
    "\n",
    "def info():\n",
    "    api_link = 'https://min-api.cryptocompare.com/data/price?fsym=BTC&tsyms=USD,EUR,BRL'\n",
    "    response = requests.get(api_link)\n",
    "    dados = response.json()\n",
    "    \n",
    "    valor_usd = float(dados['USD'])\n",
    "    valor_formatado_usd = '$ {:,.3f}'.format(valor_usd)\n",
    "    l_p_usd['text']=valor_formatado_usd\n",
    "    \n",
    "    valor_euro = float(dados['EUR'])\n",
    "    valor_formatado_euro = '{:,.3f}'.format(valor_euro)\n",
    "    l_p_euro['text']= 'Em Euro é: € ' + valor_formatado_euro\n",
    "    \n",
    "    valor_real = float(dados['BRL'])\n",
    "    valor_formatado_real = '{:,.3f}'.format(valor_real)\n",
    "    l_p_real['text']= 'Em Real é: R$ ' + valor_formatado_real\n",
    "    \n",
    "    frame_baixo.after(1000,info)\n",
    "    \n",
    "# Carregando os ícones e textos\n",
    "\n",
    "l_nome = Label(frame_cima, text='Bitcoin Price Tracker', bg=co1, fg=co2, relief=FLAT, anchor='center', font=('Arial 20'))\n",
    "l_nome.place(x=50, y=5)\n",
    "\n",
    "l_p_usd = Label(frame_baixo, text='', bg=fundo, fg=co1, relief=FLAT, anchor='center', font=('Arial 12'))\n",
    "l_p_usd.place(x=10, y=50)\n",
    "\n",
    "l_p_euro = Label(frame_baixo, text='', bg=fundo, fg=co1, relief=FLAT, anchor='center', font=('Arial 12'))\n",
    "l_p_euro.place(x=10, y=130)\n",
    "\n",
    "l_p_real = Label(frame_baixo, text='', bg=fundo, fg=co1, relief=FLAT, anchor='center', font=('Arial 12'))\n",
    "l_p_real.place(x=10, y=160)\n",
    "\n",
    "info()\n",
    "\n",
    "janela.mainloop()"
   ]
  },
  {
   "cell_type": "code",
   "execution_count": null,
   "id": "0c86ec07",
   "metadata": {},
   "outputs": [],
   "source": []
  },
  {
   "cell_type": "code",
   "execution_count": null,
   "id": "2d761850",
   "metadata": {},
   "outputs": [],
   "source": []
  }
 ],
 "metadata": {
  "kernelspec": {
   "display_name": "Python 3 (ipykernel)",
   "language": "python",
   "name": "python3"
  },
  "language_info": {
   "codemirror_mode": {
    "name": "ipython",
    "version": 3
   },
   "file_extension": ".py",
   "mimetype": "text/x-python",
   "name": "python",
   "nbconvert_exporter": "python",
   "pygments_lexer": "ipython3",
   "version": "3.9.7"
  }
 },
 "nbformat": 4,
 "nbformat_minor": 5
}
