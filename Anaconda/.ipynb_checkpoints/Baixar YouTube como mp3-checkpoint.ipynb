{
 "cells": [
  {
   "cell_type": "code",
   "execution_count": 2,
   "id": "ab39455b",
   "metadata": {},
   "outputs": [
    {
     "name": "stdout",
     "output_type": "stream",
     "text": [
      "Collecting youtube_dl\n",
      "  Downloading youtube_dl-2021.6.6-py2.py3-none-any.whl (1.9 MB)\n",
      "Installing collected packages: youtube-dl\n",
      "Successfully installed youtube-dl-2021.6.6\n"
     ]
    }
   ],
   "source": [
    "!pip install youtube_dl"
   ]
  },
  {
   "cell_type": "code",
   "execution_count": 3,
   "id": "4a7bf7b8",
   "metadata": {},
   "outputs": [],
   "source": [
    "import youtube_dl"
   ]
  },
  {
   "cell_type": "code",
   "execution_count": 4,
   "id": "aadd3bd9",
   "metadata": {},
   "outputs": [
    {
     "name": "stdout",
     "output_type": "stream",
     "text": [
      "Coloque o link do video a ser baixado em mp3:https://www.youtube.com/watch?v=3B_S3feQeKw\n",
      "[youtube] 3B_S3feQeKw: Downloading webpage\n",
      "[youtube] 3B_S3feQeKw: Downloading MPD manifest\n",
      "[youtube] 3B_S3feQeKw: Downloading webpage\n",
      "[youtube] 3B_S3feQeKw: Downloading MPD manifest\n",
      "[download] Destination: Bass solo - #Estrelas do Amanha (Bass Cover by RGuizzo).mp3\n",
      "[download] 100% of 351.94KiB in 00:08                 \n"
     ]
    },
    {
     "name": "stderr",
     "output_type": "stream",
     "text": [
      "WARNING: 3B_S3feQeKw: writing DASH m4a. Only some players support this container. Install ffmpeg or avconv to fix this automatically.\n"
     ]
    },
    {
     "name": "stdout",
     "output_type": "stream",
     "text": [
      "Download completo... Bass solo - \"Estrelas do Amanha (Bass Cover by RGuizzo).mp3\n"
     ]
    }
   ],
   "source": [
    "def run():\n",
    "    video_url = input(\"Coloque o link do video a ser baixado em mp3:\")\n",
    "    video_info = youtube_dl.YoutubeDL().extract_info(url = video_url,download=False)\n",
    "    filename = f\"{video_info['title']}.mp3\"\n",
    "    options={\n",
    "        'format':'bestaudio/best',\n",
    "        'keepvideo':False,\n",
    "        'outtmpl':filename,\n",
    "    }\n",
    "\n",
    "    with youtube_dl.YoutubeDL(options) as ydl:\n",
    "        ydl.download([video_info['webpage_url']])\n",
    "\n",
    "    print(\"Download completo... {}\".format(filename))\n",
    "\n",
    "if __name__=='__main__':\n",
    "    run()"
   ]
  },
  {
   "cell_type": "code",
   "execution_count": null,
   "id": "29f40a35",
   "metadata": {},
   "outputs": [],
   "source": []
  }
 ],
 "metadata": {
  "kernelspec": {
   "display_name": "Python 3 (ipykernel)",
   "language": "python",
   "name": "python3"
  },
  "language_info": {
   "codemirror_mode": {
    "name": "ipython",
    "version": 3
   },
   "file_extension": ".py",
   "mimetype": "text/x-python",
   "name": "python",
   "nbconvert_exporter": "python",
   "pygments_lexer": "ipython3",
   "version": "3.9.7"
  }
 },
 "nbformat": 4,
 "nbformat_minor": 5
}
