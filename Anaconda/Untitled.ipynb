{
 "cells": [
  {
   "cell_type": "code",
   "execution_count": 1,
   "id": "57860b2a",
   "metadata": {},
   "outputs": [],
   "source": [
    "import pandas as pd"
   ]
  },
  {
   "cell_type": "code",
   "execution_count": 2,
   "id": "017c6430",
   "metadata": {},
   "outputs": [],
   "source": [
    "fname = 'despesa_ceaps_2018.csv'\n",
    "df = pd.read_csv(fname, sep=';',encoding='latin1',skiprows=1, decimal=',')"
   ]
  },
  {
   "cell_type": "code",
   "execution_count": 3,
   "id": "389071a5",
   "metadata": {},
   "outputs": [
    {
     "data": {
      "text/html": [
       "<div>\n",
       "<style scoped>\n",
       "    .dataframe tbody tr th:only-of-type {\n",
       "        vertical-align: middle;\n",
       "    }\n",
       "\n",
       "    .dataframe tbody tr th {\n",
       "        vertical-align: top;\n",
       "    }\n",
       "\n",
       "    .dataframe thead th {\n",
       "        text-align: right;\n",
       "    }\n",
       "</style>\n",
       "<table border=\"1\" class=\"dataframe\">\n",
       "  <thead>\n",
       "    <tr style=\"text-align: right;\">\n",
       "      <th></th>\n",
       "      <th>ANO</th>\n",
       "      <th>MES</th>\n",
       "      <th>SENADOR</th>\n",
       "      <th>TIPO_DESPESA</th>\n",
       "      <th>CNPJ_CPF</th>\n",
       "      <th>FORNECEDOR</th>\n",
       "      <th>DOCUMENTO</th>\n",
       "      <th>DATA</th>\n",
       "      <th>DETALHAMENTO</th>\n",
       "      <th>VALOR_REEMBOLSADO</th>\n",
       "      <th>COD_DOCUMENTO</th>\n",
       "    </tr>\n",
       "  </thead>\n",
       "  <tbody>\n",
       "    <tr>\n",
       "      <th>0</th>\n",
       "      <td>2018</td>\n",
       "      <td>1</td>\n",
       "      <td>ACIR GURGACZ</td>\n",
       "      <td>Aluguel de imóveis para escritório político, c...</td>\n",
       "      <td>004.948.028-63</td>\n",
       "      <td>GILBERTO PISELO DO NASCIMENTO</td>\n",
       "      <td>NaN</td>\n",
       "      <td>02/01/2018</td>\n",
       "      <td>Despesa com pagamento de aluguel de imóvel par...</td>\n",
       "      <td>6000.00</td>\n",
       "      <td>2088462</td>\n",
       "    </tr>\n",
       "    <tr>\n",
       "      <th>1</th>\n",
       "      <td>2018</td>\n",
       "      <td>1</td>\n",
       "      <td>ACIR GURGACZ</td>\n",
       "      <td>Passagens aéreas, aquáticas e terrestres nacio...</td>\n",
       "      <td>63.764.211/0001-10</td>\n",
       "      <td>TRANSCONTINENTAL AGÊNCIA DE VIAGENS LTDA</td>\n",
       "      <td>M2CJMM</td>\n",
       "      <td>02/01/2018</td>\n",
       "      <td>Companhia Aérea: AVIANCA, Localizador: M2CJMM....</td>\n",
       "      <td>274.99</td>\n",
       "      <td>2088476</td>\n",
       "    </tr>\n",
       "    <tr>\n",
       "      <th>2</th>\n",
       "      <td>2018</td>\n",
       "      <td>1</td>\n",
       "      <td>ACIR GURGACZ</td>\n",
       "      <td>Passagens aéreas, aquáticas e terrestres nacio...</td>\n",
       "      <td>63.764.211/0001-10</td>\n",
       "      <td>TRANSCONTINENTAL AGÊNCIA DE VIAGENS LTDA</td>\n",
       "      <td>SFEXYF</td>\n",
       "      <td>02/01/2018</td>\n",
       "      <td>Companhia Aérea: LATAM, Localizador: SFEXYF. P...</td>\n",
       "      <td>1094.29</td>\n",
       "      <td>2088528</td>\n",
       "    </tr>\n",
       "    <tr>\n",
       "      <th>3</th>\n",
       "      <td>2018</td>\n",
       "      <td>1</td>\n",
       "      <td>ACIR GURGACZ</td>\n",
       "      <td>Passagens aéreas, aquáticas e terrestres nacio...</td>\n",
       "      <td>63.764.211/0001-10</td>\n",
       "      <td>TRANSCONTINENTAL AGÊNCIA DE VIAGENS LTDA</td>\n",
       "      <td>V64HTR</td>\n",
       "      <td>24/01/2018</td>\n",
       "      <td>Companhia Aérea: AZUL, Localizador: V64HTR. Pa...</td>\n",
       "      <td>1553.99</td>\n",
       "      <td>2088475</td>\n",
       "    </tr>\n",
       "    <tr>\n",
       "      <th>4</th>\n",
       "      <td>2018</td>\n",
       "      <td>2</td>\n",
       "      <td>ACIR GURGACZ</td>\n",
       "      <td>Aluguel de imóveis para escritório político, c...</td>\n",
       "      <td>004.948.028-63</td>\n",
       "      <td>GILBERTO PISELO DO NASCIMENTO</td>\n",
       "      <td>002/18</td>\n",
       "      <td>01/02/2018</td>\n",
       "      <td>Despesa com pagamento de aluguel de imóvel par...</td>\n",
       "      <td>6000.00</td>\n",
       "      <td>2088477</td>\n",
       "    </tr>\n",
       "  </tbody>\n",
       "</table>\n",
       "</div>"
      ],
      "text/plain": [
       "    ANO  MES       SENADOR                                       TIPO_DESPESA  \\\n",
       "0  2018    1  ACIR GURGACZ  Aluguel de imóveis para escritório político, c...   \n",
       "1  2018    1  ACIR GURGACZ  Passagens aéreas, aquáticas e terrestres nacio...   \n",
       "2  2018    1  ACIR GURGACZ  Passagens aéreas, aquáticas e terrestres nacio...   \n",
       "3  2018    1  ACIR GURGACZ  Passagens aéreas, aquáticas e terrestres nacio...   \n",
       "4  2018    2  ACIR GURGACZ  Aluguel de imóveis para escritório político, c...   \n",
       "\n",
       "             CNPJ_CPF                                FORNECEDOR DOCUMENTO  \\\n",
       "0      004.948.028-63             GILBERTO PISELO DO NASCIMENTO       NaN   \n",
       "1  63.764.211/0001-10  TRANSCONTINENTAL AGÊNCIA DE VIAGENS LTDA    M2CJMM   \n",
       "2  63.764.211/0001-10  TRANSCONTINENTAL AGÊNCIA DE VIAGENS LTDA    SFEXYF   \n",
       "3  63.764.211/0001-10  TRANSCONTINENTAL AGÊNCIA DE VIAGENS LTDA    V64HTR   \n",
       "4      004.948.028-63             GILBERTO PISELO DO NASCIMENTO    002/18   \n",
       "\n",
       "         DATA                                       DETALHAMENTO  \\\n",
       "0  02/01/2018  Despesa com pagamento de aluguel de imóvel par...   \n",
       "1  02/01/2018  Companhia Aérea: AVIANCA, Localizador: M2CJMM....   \n",
       "2  02/01/2018  Companhia Aérea: LATAM, Localizador: SFEXYF. P...   \n",
       "3  24/01/2018  Companhia Aérea: AZUL, Localizador: V64HTR. Pa...   \n",
       "4  01/02/2018  Despesa com pagamento de aluguel de imóvel par...   \n",
       "\n",
       "   VALOR_REEMBOLSADO  COD_DOCUMENTO  \n",
       "0            6000.00        2088462  \n",
       "1             274.99        2088476  \n",
       "2            1094.29        2088528  \n",
       "3            1553.99        2088475  \n",
       "4            6000.00        2088477  "
      ]
     },
     "execution_count": 3,
     "metadata": {},
     "output_type": "execute_result"
    }
   ],
   "source": [
    "df.head()"
   ]
  },
  {
   "cell_type": "code",
   "execution_count": 4,
   "id": "bc15eadb",
   "metadata": {},
   "outputs": [
    {
     "name": "stdout",
     "output_type": "stream",
     "text": [
      "<class 'pandas.core.frame.DataFrame'>\n",
      "RangeIndex: 24492 entries, 0 to 24491\n",
      "Data columns (total 11 columns):\n",
      " #   Column             Non-Null Count  Dtype  \n",
      "---  ------             --------------  -----  \n",
      " 0   ANO                24492 non-null  int64  \n",
      " 1   MES                24492 non-null  int64  \n",
      " 2   SENADOR            24492 non-null  object \n",
      " 3   TIPO_DESPESA       24492 non-null  object \n",
      " 4   CNPJ_CPF           24492 non-null  object \n",
      " 5   FORNECEDOR         24492 non-null  object \n",
      " 6   DOCUMENTO          23476 non-null  object \n",
      " 7   DATA               24492 non-null  object \n",
      " 8   DETALHAMENTO       18882 non-null  object \n",
      " 9   VALOR_REEMBOLSADO  24492 non-null  float64\n",
      " 10  COD_DOCUMENTO      24492 non-null  int64  \n",
      "dtypes: float64(1), int64(3), object(7)\n",
      "memory usage: 2.1+ MB\n"
     ]
    }
   ],
   "source": [
    "df.info()"
   ]
  },
  {
   "cell_type": "code",
   "execution_count": 5,
   "id": "b9fe5f07",
   "metadata": {},
   "outputs": [
    {
     "data": {
      "text/html": [
       "<div>\n",
       "<style scoped>\n",
       "    .dataframe tbody tr th:only-of-type {\n",
       "        vertical-align: middle;\n",
       "    }\n",
       "\n",
       "    .dataframe tbody tr th {\n",
       "        vertical-align: top;\n",
       "    }\n",
       "\n",
       "    .dataframe thead th {\n",
       "        text-align: right;\n",
       "    }\n",
       "</style>\n",
       "<table border=\"1\" class=\"dataframe\">\n",
       "  <thead>\n",
       "    <tr style=\"text-align: right;\">\n",
       "      <th></th>\n",
       "      <th>ANO</th>\n",
       "      <th>MES</th>\n",
       "      <th>VALOR_REEMBOLSADO</th>\n",
       "      <th>COD_DOCUMENTO</th>\n",
       "    </tr>\n",
       "  </thead>\n",
       "  <tbody>\n",
       "    <tr>\n",
       "      <th>count</th>\n",
       "      <td>24492.0</td>\n",
       "      <td>24492.000000</td>\n",
       "      <td>24492.000000</td>\n",
       "      <td>2.449200e+04</td>\n",
       "    </tr>\n",
       "    <tr>\n",
       "      <th>mean</th>\n",
       "      <td>2018.0</td>\n",
       "      <td>6.192226</td>\n",
       "      <td>1045.431215</td>\n",
       "      <td>2.100346e+06</td>\n",
       "    </tr>\n",
       "    <tr>\n",
       "      <th>std</th>\n",
       "      <td>0.0</td>\n",
       "      <td>3.305847</td>\n",
       "      <td>2718.840577</td>\n",
       "      <td>7.881637e+03</td>\n",
       "    </tr>\n",
       "    <tr>\n",
       "      <th>min</th>\n",
       "      <td>2018.0</td>\n",
       "      <td>1.000000</td>\n",
       "      <td>0.010000</td>\n",
       "      <td>2.085892e+06</td>\n",
       "    </tr>\n",
       "    <tr>\n",
       "      <th>25%</th>\n",
       "      <td>2018.0</td>\n",
       "      <td>3.000000</td>\n",
       "      <td>125.000000</td>\n",
       "      <td>2.093630e+06</td>\n",
       "    </tr>\n",
       "    <tr>\n",
       "      <th>50%</th>\n",
       "      <td>2018.0</td>\n",
       "      <td>6.000000</td>\n",
       "      <td>287.200000</td>\n",
       "      <td>2.100348e+06</td>\n",
       "    </tr>\n",
       "    <tr>\n",
       "      <th>75%</th>\n",
       "      <td>2018.0</td>\n",
       "      <td>9.000000</td>\n",
       "      <td>1032.005000</td>\n",
       "      <td>2.107072e+06</td>\n",
       "    </tr>\n",
       "    <tr>\n",
       "      <th>max</th>\n",
       "      <td>2018.0</td>\n",
       "      <td>12.000000</td>\n",
       "      <td>103900.000000</td>\n",
       "      <td>2.118038e+06</td>\n",
       "    </tr>\n",
       "  </tbody>\n",
       "</table>\n",
       "</div>"
      ],
      "text/plain": [
       "           ANO           MES  VALOR_REEMBOLSADO  COD_DOCUMENTO\n",
       "count  24492.0  24492.000000       24492.000000   2.449200e+04\n",
       "mean    2018.0      6.192226        1045.431215   2.100346e+06\n",
       "std        0.0      3.305847        2718.840577   7.881637e+03\n",
       "min     2018.0      1.000000           0.010000   2.085892e+06\n",
       "25%     2018.0      3.000000         125.000000   2.093630e+06\n",
       "50%     2018.0      6.000000         287.200000   2.100348e+06\n",
       "75%     2018.0      9.000000        1032.005000   2.107072e+06\n",
       "max     2018.0     12.000000      103900.000000   2.118038e+06"
      ]
     },
     "execution_count": 5,
     "metadata": {},
     "output_type": "execute_result"
    }
   ],
   "source": [
    "df.describe()"
   ]
  },
  {
   "cell_type": "code",
   "execution_count": 6,
   "id": "ebc12a91",
   "metadata": {},
   "outputs": [
    {
     "data": {
      "text/plain": [
       "<AxesSubplot:xlabel='MES', ylabel='VALOR_REEMBOLSADO'>"
      ]
     },
     "execution_count": 6,
     "metadata": {},
     "output_type": "execute_result"
    },
    {
     "data": {
      "image/png": "[encoded data removed]",
      "text/plain": [
       "<Figure size 432x288 with 1 Axes>"
      ]
     },
     "metadata": {
      "needs_background": "light"
     },
     "output_type": "display_data"
    }
   ],
   "source": [
    "df.plot.scatter('MES','VALOR_REEMBOLSADO')"
   ]
  },
  {
   "cell_type": "code",
   "execution_count": 7,
   "id": "2825e7fc",
   "metadata": {},
   "outputs": [
    {
     "data": {
      "text/plain": [
       "25604701.33"
      ]
     },
     "execution_count": 7,
     "metadata": {},
     "output_type": "execute_result"
    }
   ],
   "source": [
    "df['VALOR_REEMBOLSADO'].sum()"
   ]
  },
  {
   "cell_type": "code",
   "execution_count": 9,
   "id": "be8b13b5",
   "metadata": {},
   "outputs": [
    {
     "data": {
      "text/plain": [
       "EDUARDO LOPES          864\n",
       "PAULO BAUER            824\n",
       "WELLINGTON FAGUNDES    800\n",
       "JOSÉ SERRA             715\n",
       "GLEISI HOFFMANN        653\n",
       "                      ... \n",
       "ALVARO DIAS             40\n",
       "FERNANDO COLLOR         27\n",
       "JADER BARBALHO          19\n",
       "CRISTOVAM BUARQUE       16\n",
       "ZÉ SANTANA               8\n",
       "Name: SENADOR, Length: 91, dtype: int64"
      ]
     },
     "execution_count": 9,
     "metadata": {},
     "output_type": "execute_result"
    }
   ],
   "source": [
    "df['SENADOR'].value_counts()"
   ]
  },
  {
   "cell_type": "code",
   "execution_count": null,
   "id": "c5feed2a",
   "metadata": {},
   "outputs": [],
   "source": []
  },
  {
   "cell_type": "code",
   "execution_count": null,
   "id": "2088f294",
   "metadata": {},
   "outputs": [],
   "source": []
  }
 ],
 "metadata": {
  "kernelspec": {
   "display_name": "Python 3 (ipykernel)",
   "language": "python",
   "name": "python3"
  },
  "language_info": {
   "codemirror_mode": {
    "name": "ipython",
    "version": 3
   },
   "file_extension": ".py",
   "mimetype": "text/x-python",
   "name": "python",
   "nbconvert_exporter": "python",
   "pygments_lexer": "ipython3",
   "version": "3.9.7"
  }
 },
 "nbformat": 4,
 "nbformat_minor": 5
}
