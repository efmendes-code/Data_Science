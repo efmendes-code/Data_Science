{
 "cells": [
  {
   "cell_type": "markdown",
   "id": "03ca0883",
   "metadata": {},
   "source": [
    "# Criar Pandas Dataframe a partir de uma lista\n",
    "\n",
    "1. Utilizar lista única para criar Pandas DataFrame\n",
    "2. Utilizar Listas Múltiplas para criar Pandas DataFrame\n",
    "3. Utilizar Lista Multi-Dimensional para Criar Pandas DataFrame\n",
    "4. Criar DataFrame a partir de um Dicionário de Listas\n",
    "\n",
    "Pandas permite-nos criar Pandas DataFrame a partir de uma lista utilizando o método pd.DataFrame(). Podemos conseguir isto utilizando uma única lista, múltiplas listas, e listas multidimensionais."
   ]
  },
  {
   "cell_type": "markdown",
   "id": "03282e3a",
   "metadata": {},
   "source": [
    "# Utilizar lista única para criar Pandas DataFrame\n",
    "\n",
    "É o caso mais básico que cria um Dataframe a partir de uma única lista. Passamos simplesmente a lista para pd.DataFrame() e o resultado é uma única coluna Dataframe."
   ]
  },
  {
   "cell_type": "code",
   "execution_count": 1,
   "id": "4904e9f5",
   "metadata": {},
   "outputs": [
    {
     "name": "stdout",
     "output_type": "stream",
     "text": [
      "   Name\n",
      "0   Jay\n",
      "1   Raj\n",
      "2  Jack\n"
     ]
    }
   ],
   "source": [
    "import pandas as pd\n",
    "import numpy as np\n",
    "\n",
    "lst = [\"Jay\",\"Raj\",\"Jack\"]\n",
    "df = pd.DataFrame(lst, columns = ['Name'])\n",
    "\n",
    "print(df)"
   ]
  },
  {
   "cell_type": "markdown",
   "id": "b773c3aa",
   "metadata": {},
   "source": [
    "# Utilizar Listas Múltiplas para criar Pandas DataFrame\n",
    "\n",
    "Para criar uma Pandas DataFrame a partir de mais de uma lista, temos de utilizar a função zip(). A função zip() devolve um objecto do tipo zip que emparelha os elementos na primeira posição juntos, na segunda posição juntos, e assim por diante. Aqui cada lista funciona como uma coluna diferente."
   ]
  },
  {
   "cell_type": "code",
   "execution_count": 3,
   "id": "ece93faf",
   "metadata": {},
   "outputs": [
    {
     "name": "stdout",
     "output_type": "stream",
     "text": [
      "   Name  Age\n",
      "0   Jay   12\n",
      "1   Raj   15\n",
      "2  Jack   14\n"
     ]
    }
   ],
   "source": [
    "import pandas as pd\n",
    "import numpy as np\n",
    "\n",
    "lst1 = [\"Jay\",\"Raj\",\"Jack\"]\n",
    "lst2 = [12,15,14]\n",
    "\n",
    "df = pd.DataFrame(list(zip(lst1,lst2)), columns = ['Name','Age'])\n",
    "\n",
    "print(df)"
   ]
  },
  {
   "cell_type": "markdown",
   "id": "c1c72e61",
   "metadata": {},
   "source": [
    "# Utilizar Lista Multi-Dimensional para Criar Pandas DataFrame\n",
    "\n",
    "Uma lista que contém outra lista é chamada lista multidimensional. Neste caso, cada lista, que está aninhada dentro da lista principal, funciona como uma fila para o quadro de dados. O exemplo seguinte mostrará como:"
   ]
  },
  {
   "cell_type": "code",
   "execution_count": 4,
   "id": "31972276",
   "metadata": {},
   "outputs": [
    {
     "name": "stdout",
     "output_type": "stream",
     "text": [
      "   Name  Age Course\n",
      "0   Jay   12    BBA\n",
      "1  Jack   15    BSc\n"
     ]
    }
   ],
   "source": [
    "import pandas as pd\n",
    "import numpy as np\n",
    "\n",
    "lst = [[\"Jay\",12,\"BBA\"],[\"Jack\",15,\"BSc\"]]\n",
    "\n",
    "df = pd.DataFrame(lst, columns = ['Name','Age','Course'])\n",
    "\n",
    "print(df)"
   ]
  },
  {
   "cell_type": "markdown",
   "id": "cefaeb72",
   "metadata": {},
   "source": [
    "# Criar DataFrame a partir de um Dicionário de Listas\n",
    "\n",
    "Cria uma DataFrame a partir do dicionário de listas cuja chave representa o nome da coluna e os valores representam os valores da coluna com o nome da coluna especificado pela chave."
   ]
  },
  {
   "cell_type": "code",
   "execution_count": 5,
   "id": "660c6bd9",
   "metadata": {},
   "outputs": [
    {
     "name": "stdout",
     "output_type": "stream",
     "text": [
      "   Track No        Song Name\n",
      "0         1          Circles\n",
      "1         2         Rockstar\n",
      "2         3        SunFlower\n",
      "3         4       Better Now\n",
      "4         5  Congratulations\n"
     ]
    }
   ],
   "source": [
    "import pandas as pd\n",
    "\n",
    "track_no = [1, 2, 3, 4, 5]\n",
    "songs_list = [\"Circles\", \"Rockstar\",\n",
    "              \"SunFlower\", \"Better Now\", \"Congratulations\"]\n",
    "\n",
    "songs_df = pd.DataFrame({'Track No': track_no, 'Song Name': songs_list})\n",
    "\n",
    "print(songs_df)"
   ]
  },
  {
   "cell_type": "code",
   "execution_count": null,
   "id": "28412945",
   "metadata": {},
   "outputs": [],
   "source": []
  }
 ],
 "metadata": {
  "kernelspec": {
   "display_name": "Python 3 (ipykernel)",
   "language": "python",
   "name": "python3"
  },
  "language_info": {
   "codemirror_mode": {
    "name": "ipython",
    "version": 3
   },
   "file_extension": ".py",
   "mimetype": "text/x-python",
   "name": "python",
   "nbconvert_exporter": "python",
   "pygments_lexer": "ipython3",
   "version": "3.9.7"
  }
 },
 "nbformat": 4,
 "nbformat_minor": 5
}
