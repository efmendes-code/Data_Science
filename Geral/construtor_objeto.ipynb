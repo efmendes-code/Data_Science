{
 "cells": [
  {
   "cell_type": "code",
   "execution_count": 42,
   "id": "c4f17f87",
   "metadata": {},
   "outputs": [],
   "source": [
    "class Pessoa:\n",
    "    ano_atual = 2022\n",
    "    \n",
    "    def __init__(self, nome, idade, sexo, altura):\n",
    "        self.nome = nome\n",
    "        self.idade = idade\n",
    "        self.sexo = sexo\n",
    "        self.altura = altura\n",
    "    \n",
    "    def ano_nascimento(self):\n",
    "        ano_nasc = self.ano_atual - self.idade\n",
    "        print(f'Seu ano de nascimento é {ano_nasc}')    \n"
   ]
  },
  {
   "cell_type": "code",
   "execution_count": 43,
   "id": "9b5e95a0",
   "metadata": {},
   "outputs": [],
   "source": [
    "pessoa_instanciada = Pessoa('Eduardo',49,'M',1.86)"
   ]
  },
  {
   "cell_type": "code",
   "execution_count": 44,
   "id": "bf125da5",
   "metadata": {},
   "outputs": [
    {
     "name": "stdout",
     "output_type": "stream",
     "text": [
      "49\n"
     ]
    }
   ],
   "source": [
    "print(pessoa_instanciada.idade)"
   ]
  },
  {
   "cell_type": "code",
   "execution_count": 45,
   "id": "9a37074f",
   "metadata": {},
   "outputs": [
    {
     "name": "stdout",
     "output_type": "stream",
     "text": [
      "M\n"
     ]
    }
   ],
   "source": [
    "print(pessoa_instanciada.sexo)"
   ]
  },
  {
   "cell_type": "code",
   "execution_count": 46,
   "id": "cb46d371",
   "metadata": {},
   "outputs": [
    {
     "name": "stdout",
     "output_type": "stream",
     "text": [
      "1.86\n"
     ]
    }
   ],
   "source": [
    "print(pessoa_instanciada.altura)"
   ]
  },
  {
   "cell_type": "code",
   "execution_count": 47,
   "id": "ff645dcd",
   "metadata": {},
   "outputs": [
    {
     "name": "stdout",
     "output_type": "stream",
     "text": [
      "Eduardo\n"
     ]
    }
   ],
   "source": [
    "print(pessoa_instanciada.nome)"
   ]
  },
  {
   "cell_type": "code",
   "execution_count": 48,
   "id": "eb4f642b",
   "metadata": {},
   "outputs": [
    {
     "name": "stdout",
     "output_type": "stream",
     "text": [
      "Seu ano de nascimento é 1973\n",
      "None\n"
     ]
    }
   ],
   "source": [
    "print(pessoa_instanciada.ano_nascimento())"
   ]
  },
  {
   "cell_type": "code",
   "execution_count": null,
   "id": "3fe2595f",
   "metadata": {},
   "outputs": [],
   "source": []
  }
 ],
 "metadata": {
  "kernelspec": {
   "display_name": "Python 3 (ipykernel)",
   "language": "python",
   "name": "python3"
  },
  "language_info": {
   "codemirror_mode": {
    "name": "ipython",
    "version": 3
   },
   "file_extension": ".py",
   "mimetype": "text/x-python",
   "name": "python",
   "nbconvert_exporter": "python",
   "pygments_lexer": "ipython3",
   "version": "3.9.7"
  }
 },
 "nbformat": 4,
 "nbformat_minor": 5
}
