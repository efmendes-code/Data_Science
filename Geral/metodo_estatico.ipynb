{
 "cells": [
  {
   "cell_type": "code",
   "execution_count": 1,
   "id": "774a2bee",
   "metadata": {},
   "outputs": [],
   "source": [
    "from random import randint"
   ]
  },
  {
   "cell_type": "code",
   "execution_count": 3,
   "id": "3b446d9a",
   "metadata": {},
   "outputs": [],
   "source": [
    "class Pessoa:\n",
    "    @staticmethod\n",
    "    def gerador_id():\n",
    "        gerador = randint(100,999)\n",
    "        return gerador"
   ]
  },
  {
   "cell_type": "code",
   "execution_count": 4,
   "id": "603edfa4",
   "metadata": {},
   "outputs": [
    {
     "name": "stdout",
     "output_type": "stream",
     "text": [
      "593\n"
     ]
    }
   ],
   "source": [
    "print(Pessoa.gerador_id())"
   ]
  },
  {
   "cell_type": "code",
   "execution_count": 5,
   "id": "18685908",
   "metadata": {},
   "outputs": [],
   "source": [
    "pessoa1 = Pessoa()"
   ]
  },
  {
   "cell_type": "code",
   "execution_count": 6,
   "id": "3943a489",
   "metadata": {},
   "outputs": [
    {
     "data": {
      "text/plain": [
       "469"
      ]
     },
     "execution_count": 6,
     "metadata": {},
     "output_type": "execute_result"
    }
   ],
   "source": [
    "pessoa1.gerador_id()"
   ]
  },
  {
   "cell_type": "code",
   "execution_count": 7,
   "id": "23721a94",
   "metadata": {},
   "outputs": [
    {
     "name": "stdout",
     "output_type": "stream",
     "text": [
      "<__main__.Pessoa object at 0x0000015DE5426430>\n"
     ]
    }
   ],
   "source": [
    "print(pessoa1)"
   ]
  },
  {
   "cell_type": "code",
   "execution_count": null,
   "id": "bb80af0f",
   "metadata": {},
   "outputs": [],
   "source": []
  }
 ],
 "metadata": {
  "kernelspec": {
   "display_name": "Python 3 (ipykernel)",
   "language": "python",
   "name": "python3"
  },
  "language_info": {
   "codemirror_mode": {
    "name": "ipython",
    "version": 3
   },
   "file_extension": ".py",
   "mimetype": "text/x-python",
   "name": "python",
   "nbconvert_exporter": "python",
   "pygments_lexer": "ipython3",
   "version": "3.9.7"
  }
 },
 "nbformat": 4,
 "nbformat_minor": 5
}
