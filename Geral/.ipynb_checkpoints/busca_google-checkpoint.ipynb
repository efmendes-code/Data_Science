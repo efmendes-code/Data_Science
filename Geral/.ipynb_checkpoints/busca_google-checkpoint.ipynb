{
 "cells": [
  {
   "cell_type": "markdown",
   "id": "70938e9c",
   "metadata": {},
   "source": [
    "# Busca no Google com Python"
   ]
  },
  {
   "cell_type": "code",
   "execution_count": 7,
   "id": "d99b56f4",
   "metadata": {},
   "outputs": [],
   "source": [
    "# Instalando a biblioteca\n",
    "#!pip install googlesearch-python"
   ]
  },
  {
   "cell_type": "code",
   "execution_count": 2,
   "id": "bde7c62d",
   "metadata": {},
   "outputs": [],
   "source": [
    "# Importando as bibliotecas\n",
    "from googlesearch import search"
   ]
  },
  {
   "cell_type": "code",
   "execution_count": 3,
   "id": "9ac9d7b8",
   "metadata": {},
   "outputs": [
    {
     "name": "stdout",
     "output_type": "stream",
     "text": [
      "Digite o texto de busca: x\n"
     ]
    }
   ],
   "source": [
    "# Texto de busca\n",
    "query = input('Digite o texto de busca: ')"
   ]
  },
  {
   "cell_type": "code",
   "execution_count": 5,
   "id": "09114276",
   "metadata": {},
   "outputs": [],
   "source": [
    "# Faz a busca e cria lista com os links dos resultados\n",
    "result = list (\n",
    "    search (\n",
    "        query,\n",
    "        lang='pt-br',\n",
    "        num_results=5\n",
    "    )\n",
    ")"
   ]
  },
  {
   "cell_type": "code",
   "execution_count": 6,
   "id": "7a224164",
   "metadata": {},
   "outputs": [
    {
     "data": {
      "text/plain": [
       "['https://www.youtube.com/watch?v=9hGdmEwBwbg',\n",
       " 'https://www.youtube.com/watch?v=kTq7qsP1N94',\n",
       " 'https://ge.globo.com/futebol/futebol-internacional/futebol-ingles/jogo/27-12-2021/Newcastle-Manchesterunited.ghtml',\n",
       " 'https://www.terra.com.br/esportes/futebol/internacional/inglaterra/campeonato-ingles/ao-vivo/newcastle-x-manchester-united/70605/']"
      ]
     },
     "metadata": {},
     "output_type": "display_data"
    }
   ],
   "source": [
    "# Mostra os resultados\n",
    "display(result)"
   ]
  },
  {
   "cell_type": "code",
   "execution_count": null,
   "id": "f1f5ae48",
   "metadata": {},
   "outputs": [],
   "source": []
  }
 ],
 "metadata": {
  "kernelspec": {
   "display_name": "Python 3 (ipykernel)",
   "language": "python",
   "name": "python3"
  },
  "language_info": {
   "codemirror_mode": {
    "name": "ipython",
    "version": 3
   },
   "file_extension": ".py",
   "mimetype": "text/x-python",
   "name": "python",
   "nbconvert_exporter": "python",
   "pygments_lexer": "ipython3",
   "version": "3.9.7"
  }
 },
 "nbformat": 4,
 "nbformat_minor": 5
}
