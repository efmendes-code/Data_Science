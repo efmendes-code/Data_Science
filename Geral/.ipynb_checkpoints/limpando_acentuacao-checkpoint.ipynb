{
 "cells": [
  {
   "cell_type": "markdown",
   "id": "3f674694",
   "metadata": {},
   "source": [
    "# Limpando Acentuação"
   ]
  },
  {
   "cell_type": "code",
   "execution_count": 1,
   "id": "d7aff989",
   "metadata": {},
   "outputs": [],
   "source": [
    "#Importando as bibliotecas\n",
    "import unidecode"
   ]
  },
  {
   "cell_type": "code",
   "execution_count": 2,
   "id": "e86efbda",
   "metadata": {},
   "outputs": [],
   "source": [
    "texto = 'ótimo não é tão péssimo'"
   ]
  },
  {
   "cell_type": "code",
   "execution_count": 5,
   "id": "5b893e56",
   "metadata": {},
   "outputs": [
    {
     "data": {
      "text/plain": [
       "'otimo nao e tao pessimo'"
      ]
     },
     "execution_count": 5,
     "metadata": {},
     "output_type": "execute_result"
    }
   ],
   "source": [
    "texto = unidecode.unidecode(texto)\n",
    "texto"
   ]
  },
  {
   "cell_type": "code",
   "execution_count": null,
   "id": "f3692988",
   "metadata": {},
   "outputs": [],
   "source": []
  }
 ],
 "metadata": {
  "kernelspec": {
   "display_name": "Python 3 (ipykernel)",
   "language": "python",
   "name": "python3"
  },
  "language_info": {
   "codemirror_mode": {
    "name": "ipython",
    "version": 3
   },
   "file_extension": ".py",
   "mimetype": "text/x-python",
   "name": "python",
   "nbconvert_exporter": "python",
   "pygments_lexer": "ipython3",
   "version": "3.9.7"
  }
 },
 "nbformat": 4,
 "nbformat_minor": 5
}
