{
 "cells": [
  {
   "cell_type": "code",
   "execution_count": 4,
   "id": "a8679b4c",
   "metadata": {},
   "outputs": [],
   "source": [
    "# Criando um classe e definindo um método para a classe\n",
    "class Pessoa:\n",
    "    def acao1(self):\n",
    "        print('Ação 1 sendo executada.')"
   ]
  },
  {
   "cell_type": "code",
   "execution_count": 7,
   "id": "6355a0f4",
   "metadata": {},
   "outputs": [
    {
     "name": "stdout",
     "output_type": "stream",
     "text": [
      "<__main__.Pessoa object at 0x0000022D43542AC0>\n"
     ]
    }
   ],
   "source": [
    "# Instanciando um objeto. A variável objeto1 instancia a classe Pessoa(), incorporando toda a sua estrutura\n",
    "objeto1 = Pessoa()\n",
    "print(objeto1)"
   ]
  },
  {
   "cell_type": "code",
   "execution_count": 6,
   "id": "fddc2999",
   "metadata": {},
   "outputs": [
    {
     "name": "stdout",
     "output_type": "stream",
     "text": [
      "Ação 1 sendo executada.\n"
     ]
    }
   ],
   "source": [
    "# Executando um método do objeto instânciado\n",
    "objeto1.acao1()"
   ]
  },
  {
   "cell_type": "code",
   "execution_count": null,
   "id": "cafe7957",
   "metadata": {},
   "outputs": [],
   "source": []
  }
 ],
 "metadata": {
  "kernelspec": {
   "display_name": "Python 3 (ipykernel)",
   "language": "python",
   "name": "python3"
  },
  "language_info": {
   "codemirror_mode": {
    "name": "ipython",
    "version": 3
   },
   "file_extension": ".py",
   "mimetype": "text/x-python",
   "name": "python",
   "nbconvert_exporter": "python",
   "pygments_lexer": "ipython3",
   "version": "3.9.7"
  }
 },
 "nbformat": 4,
 "nbformat_minor": 5
}
