{
 "cells": [
  {
   "cell_type": "markdown",
   "id": "d0141031",
   "metadata": {},
   "source": [
    "# Como Manipular Datetime no Python\n",
    "\n",
    "Trabalhar com objetos datetime em Python pode ser complicado. Acredite em mim, já passei por isso.\n",
    "\n",
    "Eu poderia apontar pelo menos uma dúzia de vezes nas quais gastei vários minutos procurando os trechos de código certos para transformar ou formatar datas em Python. E, apesar de ser estressante, não deveria ser complicado.\n",
    "\n",
    "O fato é que não é complicado, mas tem lá seus truques. Você deve entender o tipo de objeto com o qual está lidando antes de planejar sua transformação, caso contrário, continuará gerando um erro e, mais cedo ou mais tarde, você chega ao fim do dia sem cabelos na cabeça.\n",
    "\n",
    "Dito isso, decidi colocar neste post o essencial do que normalmente preciso quando trabalho com objetos datetime em Python. Aqui você verá alguns trechos de código úteis que — espero — tornarão sua vida mais fácil."
   ]
  },
  {
   "cell_type": "markdown",
   "id": "e547fe2f",
   "metadata": {},
   "source": [
    "# Datetime\n",
    "\n",
    "Datetime é um tipo de objeto em Python para lidar com… ahm… datas e horas. Sempre que você tiver uma variável com dias, meses, anos, horas etc, você terá a chance de transformá-la em um objeto datetime e ter acesso a uma série de métodos para trabalhar com ela e transformá-la."
   ]
  },
  {
   "cell_type": "code",
   "execution_count": 43,
   "id": "b2a15b4a",
   "metadata": {},
   "outputs": [
    {
     "data": {
      "text/plain": [
       "datetime.date(2021, 1, 10)"
      ]
     },
     "execution_count": 43,
     "metadata": {},
     "output_type": "execute_result"
    }
   ],
   "source": [
    "# Cria objeto Date\n",
    "date(year=2021, month=1, day=10)"
   ]
  },
  {
   "cell_type": "code",
   "execution_count": 44,
   "id": "b5923add",
   "metadata": {},
   "outputs": [
    {
     "data": {
      "text/plain": [
       "datetime.time(14, 15, 25)"
      ]
     },
     "execution_count": 44,
     "metadata": {},
     "output_type": "execute_result"
    }
   ],
   "source": [
    "# Cria objeto Time\n",
    "time(hour=14, minute=15, second=25)"
   ]
  },
  {
   "cell_type": "code",
   "execution_count": 45,
   "id": "ded5fd51",
   "metadata": {},
   "outputs": [
    {
     "data": {
      "text/plain": [
       "datetime.datetime(2021, 1, 10, 14, 15, 25)"
      ]
     },
     "execution_count": 45,
     "metadata": {},
     "output_type": "execute_result"
    }
   ],
   "source": [
    "# Cria objeto Datetime\n",
    "datetime(year=2021, month=1, day=10, hour=14, minute=15, second=25)"
   ]
  },
  {
   "cell_type": "code",
   "execution_count": 46,
   "id": "022b405f",
   "metadata": {},
   "outputs": [
    {
     "data": {
      "text/plain": [
       "datetime.date(2021, 1, 10)"
      ]
     },
     "execution_count": 46,
     "metadata": {},
     "output_type": "execute_result"
    }
   ],
   "source": [
    "# Data de string iso-formatted\n",
    "date.fromisoformat(\"2021-01-10\")"
   ]
  },
  {
   "cell_type": "code",
   "execution_count": 47,
   "id": "8ed51e1f",
   "metadata": {},
   "outputs": [
    {
     "data": {
      "text/plain": [
       "datetime.datetime(2021, 1, 7, 11, 33, 20)"
      ]
     },
     "execution_count": 47,
     "metadata": {},
     "output_type": "execute_result"
    }
   ],
   "source": [
    "# De timestamp para Datetime\n",
    "timestamp = 1610030000\n",
    "datetime.fromtimestamp(timestamp)"
   ]
  },
  {
   "cell_type": "code",
   "execution_count": 50,
   "id": "360560ec",
   "metadata": {},
   "outputs": [
    {
     "data": {
      "text/plain": [
       "'2021-01-10T14:15:25'"
      ]
     },
     "execution_count": 50,
     "metadata": {},
     "output_type": "execute_result"
    }
   ],
   "source": [
    "# Variável no formato datetime\n",
    "date_in_datetime_format = datetime(year=2021, month=1, day=10, hour=14, minute=15, second=25)\n",
    "datetime.isoformat(date_in_datetime_format)"
   ]
  },
  {
   "cell_type": "markdown",
   "id": "d89a8e98",
   "metadata": {},
   "source": [
    "Pode ser necessário extrair a data como string, caso seja um formato de datetime. Aqui está como fazer isso."
   ]
  },
  {
   "cell_type": "code",
   "execution_count": 51,
   "id": "5cceb087",
   "metadata": {},
   "outputs": [
    {
     "data": {
      "text/plain": [
       "'2021-01-02'"
      ]
     },
     "execution_count": 51,
     "metadata": {},
     "output_type": "execute_result"
    }
   ],
   "source": [
    "date1 = date(2021, 1, 2)\n",
    "\n",
    "# String of the date\n",
    "str( date1.isoformat() )[:10]"
   ]
  },
  {
   "cell_type": "markdown",
   "id": "7f16239a",
   "metadata": {},
   "source": [
    "Podemos formatar strings. Basta identificar qual parte da string é o mês%m , dia %d , ano %Y , hora %H , minutos %M and segundos %S ."
   ]
  },
  {
   "cell_type": "code",
   "execution_count": 52,
   "id": "85d054c5",
   "metadata": {},
   "outputs": [
    {
     "data": {
      "text/plain": [
       "datetime.datetime(2021, 1, 10, 14, 15, 25)"
      ]
     },
     "execution_count": 52,
     "metadata": {},
     "output_type": "execute_result"
    }
   ],
   "source": [
    "# Formatar string\n",
    "date_string = \"01-10-2021 14:15:25\"\n",
    "\n",
    "datetime.strptime(date_string, \"%m-%d-%Y %H:%M:%S\")"
   ]
  },
  {
   "cell_type": "markdown",
   "id": "738aa456",
   "metadata": {},
   "source": [
    "Se você está escrevendo um programa ou script que precisa da data e hora do seu sistema, aqui estão os códigos."
   ]
  },
  {
   "cell_type": "code",
   "execution_count": 57,
   "id": "38f088b0",
   "metadata": {},
   "outputs": [
    {
     "data": {
      "text/plain": [
       "datetime.datetime(2022, 1, 4, 13, 39, 17, 626901)"
      ]
     },
     "execution_count": 57,
     "metadata": {},
     "output_type": "execute_result"
    }
   ],
   "source": [
    "# Data de Hoje\n",
    "datetime.today()"
   ]
  },
  {
   "cell_type": "code",
   "execution_count": 56,
   "id": "3fbdad7f",
   "metadata": {},
   "outputs": [
    {
     "data": {
      "text/plain": [
       "datetime.datetime(2022, 1, 4, 13, 39, 14, 235931)"
      ]
     },
     "execution_count": 56,
     "metadata": {},
     "output_type": "execute_result"
    }
   ],
   "source": [
    "# Data e horário de agora\n",
    "datetime.now()"
   ]
  },
  {
   "cell_type": "markdown",
   "id": "d4a7615c",
   "metadata": {},
   "source": [
    "# Operações Aritméticas com Datetime\n",
    "\n",
    "Isso pode ser complicado. Se você tentar adicionar um número inteiro a uma variável de data e hora, o Python gera um erro dizendo que objetos de data e hora não podem ser combinados com números inteiros. Então, como adicionar dias à minha data? Use timedelta."
   ]
  },
  {
   "cell_type": "code",
   "execution_count": 54,
   "id": "da943e48",
   "metadata": {},
   "outputs": [
    {
     "data": {
      "text/plain": [
       "datetime.datetime(2022, 1, 5, 13, 38, 46, 226032)"
      ]
     },
     "execution_count": 54,
     "metadata": {},
     "output_type": "execute_result"
    }
   ],
   "source": [
    "# Adicionar um dia\n",
    "datetime.today() + timedelta(days=1)"
   ]
  },
  {
   "cell_type": "code",
   "execution_count": 55,
   "id": "8d27e180",
   "metadata": {},
   "outputs": [
    {
     "data": {
      "text/plain": [
       "datetime.datetime(2021, 4, 20, 13, 38, 57, 563104)"
      ]
     },
     "execution_count": 55,
     "metadata": {},
     "output_type": "execute_result"
    }
   ],
   "source": [
    "# Subtrair 259 dias\n",
    "datetime.today() + timedelta(days=-259)"
   ]
  },
  {
   "cell_type": "markdown",
   "id": "49192b90",
   "metadata": {},
   "source": [
    "Com o timedelta você pode adicionar ou subtrair dias, horas, minutos e segundos. Para adicionar outros perídoso como meses ou anos, use o relativedelta ."
   ]
  },
  {
   "cell_type": "code",
   "execution_count": 58,
   "id": "fa11fd65",
   "metadata": {},
   "outputs": [
    {
     "data": {
      "text/plain": [
       "datetime.date(2026, 2, 15)"
      ]
     },
     "execution_count": 58,
     "metadata": {},
     "output_type": "execute_result"
    }
   ],
   "source": [
    "date1 = date(2021, 1, 10)\n",
    "delta = relativedelta(years=+5, months=+1, days=+5)\n",
    "date1 + delta"
   ]
  },
  {
   "cell_type": "markdown",
   "id": "1ee4de92",
   "metadata": {},
   "source": [
    "# Fim"
   ]
  },
  {
   "cell_type": "markdown",
   "id": "e98c3cd9",
   "metadata": {},
   "source": [
    "# Vamos começar com o básico.\n",
    "\n",
    "Datetime é uma biblioteca nativa do Python, então tudo que você precisa fazer é importá-la. O trecho abaixo traz algumas coisas legais que você pode precisar dependendo da situação: date para criar objetos de data. time para objetos de tempo, datetime para ambos combinados e timedelta e relativedelta para poder adicionar, subtrair dias de sua data."
   ]
  },
  {
   "cell_type": "code",
   "execution_count": 41,
   "id": "b3d9df56",
   "metadata": {},
   "outputs": [],
   "source": [
    "# Imports\n",
    "from datetime import date, time, datetime, timedelta\n",
    "from dateutil.relativedelta import relativedelta"
   ]
  },
  {
   "cell_type": "markdown",
   "id": "fe0d5888",
   "metadata": {},
   "source": [
    "# Criando Objetos Date, Time e Datetime"
   ]
  },
  {
   "cell_type": "code",
   "execution_count": 1,
   "id": "c0a5a745",
   "metadata": {},
   "outputs": [
    {
     "name": "stdout",
     "output_type": "stream",
     "text": [
      "2022-01-04\n"
     ]
    }
   ],
   "source": [
    "# Importando a biblioteca\n",
    "from datetime import date\n",
    "\n",
    "# Pegando da data atual\n",
    "data_atual = date.today()\n",
    "print(data_atual)"
   ]
  },
  {
   "cell_type": "code",
   "execution_count": 5,
   "id": "1032a697",
   "metadata": {},
   "outputs": [
    {
     "name": "stdout",
     "output_type": "stream",
     "text": [
      "4/1/2022\n"
     ]
    }
   ],
   "source": [
    "# Formatando nossa data em uma string\n",
    "data_em_texto = '{}/{}/{}'.format(data_atual.day, data_atual.month, data_atual.year)\n",
    "print(data_em_texto)"
   ]
  },
  {
   "cell_type": "code",
   "execution_count": 6,
   "id": "090ca900",
   "metadata": {},
   "outputs": [
    {
     "name": "stdout",
     "output_type": "stream",
     "text": [
      "04/01/2022\n"
     ]
    }
   ],
   "source": [
    "# Adicionando um 0 antes\n",
    "data_em_texto = '0{}/0{}/{}'.format(data_atual.day, data_atual.month,data_atual.year)\n",
    "print(data_em_texto)"
   ]
  },
  {
   "cell_type": "code",
   "execution_count": 8,
   "id": "31eaac42",
   "metadata": {},
   "outputs": [
    {
     "name": "stdout",
     "output_type": "stream",
     "text": [
      "04/01/2022\n"
     ]
    }
   ],
   "source": [
    "# Formatando datas em strings usando o método strftime()\n",
    "data_em_texto = data_atual.strftime('%d/%m/%Y')\n",
    "print(data_em_texto)"
   ]
  },
  {
   "cell_type": "code",
   "execution_count": 13,
   "id": "7e1cec54",
   "metadata": {},
   "outputs": [
    {
     "name": "stdout",
     "output_type": "stream",
     "text": [
      "04/01/2022\n"
     ]
    }
   ],
   "source": [
    "# O tipo datetime para cuidar de datas e horários juntos\n",
    "from datetime import datetime\n",
    "\n",
    "data_e_hora_atuais = datetime.now()\n",
    "data_e_hora_em_texto = data_e_hora_atuais.strftime('%d/%m/%Y')\n",
    "\n",
    "print(data_e_hora_em_texto)"
   ]
  },
  {
   "cell_type": "code",
   "execution_count": 14,
   "id": "6caaf888",
   "metadata": {},
   "outputs": [
    {
     "name": "stdout",
     "output_type": "stream",
     "text": [
      "04/01/2022 13:10\n"
     ]
    }
   ],
   "source": [
    "# Data e hora\n",
    "data_e_hora_em_texto = data_e_hora_atuais.strftime('%d/%m/%Y %H:%M')\n",
    "\n",
    "print(data_e_hora_em_texto)"
   ]
  },
  {
   "cell_type": "code",
   "execution_count": 19,
   "id": "f701fb9f",
   "metadata": {},
   "outputs": [
    {
     "name": "stdout",
     "output_type": "stream",
     "text": [
      "2018-03-01 12:30:00\n"
     ]
    }
   ],
   "source": [
    "# Convertendo uma string em datetime\n",
    "data_e_hora_em_texto = '01/03/2018 12:30'\n",
    "data_e_hora = datetime.strptime(data_e_hora_em_texto, '%d/%m/%Y %H:%M')\n",
    "print(data_e_hora)"
   ]
  },
  {
   "cell_type": "code",
   "execution_count": 24,
   "id": "4d235668",
   "metadata": {},
   "outputs": [
    {
     "name": "stdout",
     "output_type": "stream",
     "text": [
      "2020-09-24\n"
     ]
    }
   ],
   "source": [
    "dataSimples = date(year=2020, month=9, day=24)\n",
    "print(dataSimples)\n",
    "#  2020-09-24"
   ]
  },
  {
   "cell_type": "code",
   "execution_count": 25,
   "id": "0fff4938",
   "metadata": {},
   "outputs": [
    {
     "name": "stdout",
     "output_type": "stream",
     "text": [
      "2020-09-24 22:10:30\n"
     ]
    }
   ],
   "source": [
    "data = datetime(year=2020, month=9, day=24, hour=22, minute=10, second=30)\n",
    "print(data)\n",
    "#  2020-09-24 22:10:30"
   ]
  },
  {
   "cell_type": "code",
   "execution_count": 29,
   "id": "3d77ba2d",
   "metadata": {},
   "outputs": [
    {
     "name": "stdout",
     "output_type": "stream",
     "text": [
      "2022-01-04\n",
      "4\n",
      "1\n",
      "2022\n"
     ]
    }
   ],
   "source": [
    "# Obter a data atual\n",
    "from datetime import date\n",
    "\n",
    "hj = date.today()\n",
    "print(hj)\n",
    "\n",
    "print(hj.day)\n",
    "\n",
    "print(hj.month)\n",
    "\n",
    "print(hj.year)"
   ]
  },
  {
   "cell_type": "code",
   "execution_count": 30,
   "id": "bb9b41c7",
   "metadata": {},
   "outputs": [
    {
     "name": "stdout",
     "output_type": "stream",
     "text": [
      "738159\n",
      "2022-02-18\n"
     ]
    }
   ],
   "source": [
    "# Obter a data há ou daqui a X dias\n",
    "from datetime import date\n",
    "\n",
    "hj = date.today()\n",
    "\n",
    "print(hj.toordinal())\n",
    "\n",
    "futuro = date.fromordinal(hj.toordinal()+45) # hoje + 45 dias\n",
    "\n",
    "print(futuro)"
   ]
  },
  {
   "cell_type": "code",
   "execution_count": 32,
   "id": "cc987c49",
   "metadata": {},
   "outputs": [
    {
     "name": "stdout",
     "output_type": "stream",
     "text": [
      "738159\n",
      "45\n",
      "45 days, 0:00:00\n"
     ]
    }
   ],
   "source": [
    "# Calcular a diferença de dias entre datas\n",
    "from datetime import date\n",
    "\n",
    "hj = date.today()\n",
    "print(hj.toordinal())\n",
    "\n",
    "\n",
    "futuro = date.fromordinal(hj.toordinal()+45) # hoje + 45 dias</pre>\n",
    "diferenca = futuro - hj\n",
    "print(diferenca.days)"
   ]
  },
  {
   "cell_type": "code",
   "execution_count": 33,
   "id": "9dc1c861",
   "metadata": {},
   "outputs": [
    {
     "name": "stdout",
     "output_type": "stream",
     "text": [
      "1\n"
     ]
    }
   ],
   "source": [
    "# Descobrir o dia da semana de uma data\n",
    "from datetime import date\n",
    "\n",
    "hj = date.today()\n",
    "print(hj.weekday())"
   ]
  },
  {
   "cell_type": "code",
   "execution_count": 34,
   "id": "c28ea28a",
   "metadata": {},
   "outputs": [
    {
     "name": "stdout",
     "output_type": "stream",
     "text": [
      "Hoje é Terça-feira\n"
     ]
    }
   ],
   "source": [
    "from datetime import date\n",
    "\n",
    "hj = date.today()\n",
    "dias = ('Segunda-feira', 'Terça-feira', 'Quarta-feira', 'Quinta-feira', 'Sexta-feira', 'Sábado', 'Domingo')\n",
    "print('Hoje é', dias[hj.weekday()])"
   ]
  },
  {
   "cell_type": "code",
   "execution_count": 36,
   "id": "d2880803",
   "metadata": {},
   "outputs": [
    {
     "name": "stdout",
     "output_type": "stream",
     "text": [
      "False\n"
     ]
    }
   ],
   "source": [
    "# Converter a data fornecida pelo usuário em um objeto do tipo datetime.date e \n",
    "# comparar com a data de hoje (datetime.date.today())\n",
    "from datetime import date\n",
    "\n",
    "data_usuario = '24/11/2012'\n",
    "dia, mes, ano = data_usuario.split('/')\n",
    "print(date.today() == date(int(ano), int(mes), int(dia)))"
   ]
  },
  {
   "cell_type": "code",
   "execution_count": 40,
   "id": "7df9c076",
   "metadata": {},
   "outputs": [
    {
     "name": "stdout",
     "output_type": "stream",
     "text": [
      "False\n"
     ]
    }
   ],
   "source": [
    "# Obter a representação em formato de string da data de hoje e comparar com a string fornecida pelo usuário\n",
    "from datetime import date\n",
    "\n",
    "data_usuario = '24/11/2012'\n",
    "print(date.today().strftime('%d/%m/%Y') == data_usuario)"
   ]
  },
  {
   "cell_type": "code",
   "execution_count": null,
   "id": "dd8b30b5",
   "metadata": {},
   "outputs": [],
   "source": []
  }
 ],
 "metadata": {
  "kernelspec": {
   "display_name": "Python 3 (ipykernel)",
   "language": "python",
   "name": "python3"
  },
  "language_info": {
   "codemirror_mode": {
    "name": "ipython",
    "version": 3
   },
   "file_extension": ".py",
   "mimetype": "text/x-python",
   "name": "python",
   "nbconvert_exporter": "python",
   "pygments_lexer": "ipython3",
   "version": "3.9.7"
  }
 },
 "nbformat": 4,
 "nbformat_minor": 5
}
