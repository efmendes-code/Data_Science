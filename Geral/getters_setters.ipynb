{
 "cells": [
  {
   "cell_type": "code",
   "execution_count": 2,
   "id": "50381d20",
   "metadata": {},
   "outputs": [],
   "source": [
    "class Produto:\n",
    "    def __init__(self, nome, preco):\n",
    "        self.nome = nome\n",
    "        self.preco = preco\n",
    "    \n",
    "    def desconto(self, percentual):\n",
    "        self.preco = self.preco - (self.preco*(self.percentual/100))\n",
    "        \n",
    "    # Getter\n",
    "    @property\n",
    "    def preco(self):\n",
    "        return self.preco\n",
    "    \n",
    "    # Setter\n",
    "    @preco.setter\n",
    "    def preco(self, valor):\n",
    "        if isinstance(valor, str):\n",
    "            valor = float(valor.replace('R$',''))\n",
    "        self.preco = valor"
   ]
  },
  {
   "cell_type": "code",
   "execution_count": null,
   "id": "57d44cb8",
   "metadata": {},
   "outputs": [],
   "source": [
    "produto1 = Produto('Camiseta', 99)\n",
    "produto1.desconto(5)\n",
    "print(produto1.preco)"
   ]
  },
  {
   "cell_type": "code",
   "execution_count": null,
   "id": "5fd35835",
   "metadata": {},
   "outputs": [],
   "source": []
  }
 ],
 "metadata": {
  "kernelspec": {
   "display_name": "Python 3 (ipykernel)",
   "language": "python",
   "name": "python3"
  },
  "language_info": {
   "codemirror_mode": {
    "name": "ipython",
    "version": 3
   },
   "file_extension": ".py",
   "mimetype": "text/x-python",
   "name": "python",
   "nbconvert_exporter": "python",
   "pygments_lexer": "ipython3",
   "version": "3.9.7"
  }
 },
 "nbformat": 4,
 "nbformat_minor": 5
}
