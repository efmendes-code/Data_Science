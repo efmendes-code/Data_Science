{
 "cells": [
  {
   "cell_type": "markdown",
   "id": "b75d8b5f",
   "metadata": {},
   "source": [
    "# Código para baixar um único vídeo do youtube em um determinado local "
   ]
  },
  {
   "cell_type": "code",
   "execution_count": 1,
   "id": "cb522336",
   "metadata": {},
   "outputs": [],
   "source": [
    "# Importando a biblioteca\n",
    "# Atenção: Caso ocorra algum erro com a instalação da biblioteca - execute o seguinte comando\n",
    "# python -m pip install --upgrade pytube\n",
    "from pytube import YouTube"
   ]
  },
  {
   "cell_type": "markdown",
   "id": "9f1ff89e",
   "metadata": {},
   "source": [
    "# Solicita o link do vídeo e o local de armazenamento e depois instancia o objeto"
   ]
  },
  {
   "cell_type": "code",
   "execution_count": 2,
   "id": "be8e3dd5",
   "metadata": {},
   "outputs": [
    {
     "name": "stdout",
     "output_type": "stream",
     "text": [
      "Digite o link do vídeo que deseja baixar: https://www.youtube.com/watch?v=8Ne2MeblD08\n",
      "Digite o diretório que deseja salvar o vídeo: d:\\Users\\eduardo.mendes\\Desktop\\Python\n"
     ]
    }
   ],
   "source": [
    "# Difine o link do vídeo e o local que deseja salvar o vídeo\n",
    "# exemplo de link: https://www.youtube.com/watch?v=SQlMilR66Fo\n",
    "link = input('Digite o link do vídeo que deseja baixar: ')\n",
    "# exemplo de local: C:\\Youtube\n",
    "path = input('Digite o diretório que deseja salvar o vídeo: ')\n",
    "\n",
    "yt = YouTube(link)"
   ]
  },
  {
   "cell_type": "markdown",
   "id": "ff005705",
   "metadata": {},
   "source": [
    "# Exibe informações do vídeo"
   ]
  },
  {
   "cell_type": "code",
   "execution_count": 3,
   "id": "e34f45fd",
   "metadata": {},
   "outputs": [
    {
     "name": "stdout",
     "output_type": "stream",
     "text": [
      "Título:  Intensivão de Python [Aula 1]\n",
      "Autor:  Hashtag Programação\n",
      "Número de views: 84233\n",
      "Tamanho do vídeo:  8613 segundos\n",
      "Avaliação do vídeo:  None\n"
     ]
    }
   ],
   "source": [
    "# Mostra os detalhes do vídeo\n",
    "print('Título: ', yt.title)\n",
    "print('Autor: ',yt.author)\n",
    "print('Número de views:', yt.views)\n",
    "print('Tamanho do vídeo: ', yt.length, \"segundos\")\n",
    "print('Avaliação do vídeo: ', yt.rating)"
   ]
  },
  {
   "cell_type": "markdown",
   "id": "1fe46898",
   "metadata": {},
   "source": [
    "# Aumenta a resolução do vídeo"
   ]
  },
  {
   "cell_type": "code",
   "execution_count": 4,
   "id": "d4c6e895",
   "metadata": {},
   "outputs": [],
   "source": [
    "# Usa a maior resolução para fazer o download\n",
    "ys = yt.streams.get_highest_resolution()"
   ]
  },
  {
   "cell_type": "markdown",
   "id": "56d6ef83",
   "metadata": {},
   "source": [
    "# Baixa o vídeo"
   ]
  },
  {
   "cell_type": "code",
   "execution_count": 5,
   "id": "a85f5ede",
   "metadata": {},
   "outputs": [
    {
     "name": "stdout",
     "output_type": "stream",
     "text": [
      "Baixando...\n",
      "Download completo!\n"
     ]
    }
   ],
   "source": [
    "# Começa o download do vídeo\n",
    "print('Baixando...')\n",
    "ys.download(path)\n",
    "print('Download completo!')"
   ]
  }
 ],
 "metadata": {
  "kernelspec": {
   "display_name": "Python 3 (ipykernel)",
   "language": "python",
   "name": "python3"
  },
  "language_info": {
   "codemirror_mode": {
    "name": "ipython",
    "version": 3
   },
   "file_extension": ".py",
   "mimetype": "text/x-python",
   "name": "python",
   "nbconvert_exporter": "python",
   "pygments_lexer": "ipython3",
   "version": "3.9.7"
  }
 },
 "nbformat": 4,
 "nbformat_minor": 5
}
