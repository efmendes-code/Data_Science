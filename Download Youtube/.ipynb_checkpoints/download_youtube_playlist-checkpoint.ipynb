{
 "cells": [
  {
   "cell_type": "markdown",
   "id": "ccf63c5d",
   "metadata": {},
   "source": [
    "# Download de uma Playlist do Youtube - Baixa os vídeos da playlist e grava em um local determinado."
   ]
  },
  {
   "cell_type": "code",
   "execution_count": 11,
   "id": "85976ce3",
   "metadata": {},
   "outputs": [],
   "source": [
    "# Importa as bibliotecas\n",
    "# Atenção: Caso ocorra algum erro com a instalação da biblioteca - execute o seguinte comando\n",
    "# python -m pip install --upgrade pytube\n",
    "from pytube import Playlist"
   ]
  },
  {
   "cell_type": "markdown",
   "id": "f8c7314b",
   "metadata": {},
   "source": [
    "# Solicita o link da playlist e o local onde os vídeos serão gravados"
   ]
  },
  {
   "cell_type": "code",
   "execution_count": 12,
   "id": "a98b3473",
   "metadata": {},
   "outputs": [
    {
     "name": "stdout",
     "output_type": "stream",
     "text": [
      "Digite o link da playlist que deseja baixar: https://www.youtube.com/watch?v=LAEjcw0pWDw&list=PLcnlRsVHRf5mriCWWYuBvtlZfoawVVbSO\n",
      "Destino do download: C:\\Youtube3\n"
     ]
    }
   ],
   "source": [
    "# Solicita o link da playlist e o local para gravação\n",
    "# Exemplo de link: https://www.youtube.com/watch?v=TBdRfrWT7Co&list=PLnNURxKyyLIKX73U7hISjIY7T5KiNNLu_\n",
    "plyt = Playlist(input('Digite o link da playlist que deseja baixar: '))\n",
    " \n",
    "# exemplo de path: C:\\Youtube (caso a pasta não exista é criada automáticamente)\n",
    "path = input('Destino do download: ')"
   ]
  },
  {
   "cell_type": "markdown",
   "id": "1993b265",
   "metadata": {},
   "source": [
    "# Inicia o download dos vídeos da playlist determinada"
   ]
  },
  {
   "cell_type": "code",
   "execution_count": 13,
   "id": "e32fdc6c",
   "metadata": {},
   "outputs": [
    {
     "name": "stdout",
     "output_type": "stream",
     "text": [
      "Iniciando o download dos vídeos da playlist: Audio Traduções\n",
      "\n",
      "Baixando o vídeo 1/18 - Audio Traduções\n",
      "Baixando o vídeo 2/18 - Audio Traduções\n",
      "Baixando o vídeo 3/18 - Audio Traduções\n",
      "Baixando o vídeo 4/18 - Audio Traduções\n",
      "Baixando o vídeo 5/18 - Audio Traduções\n",
      "Baixando o vídeo 6/18 - Audio Traduções\n",
      "Baixando o vídeo 7/18 - Audio Traduções\n",
      "Baixando o vídeo 8/18 - Audio Traduções\n",
      "Baixando o vídeo 9/18 - Audio Traduções\n",
      "Baixando o vídeo 10/18 - Audio Traduções\n",
      "Baixando o vídeo 11/18 - Audio Traduções\n",
      "Baixando o vídeo 12/18 - Audio Traduções\n",
      "Baixando o vídeo 13/18 - Audio Traduções\n",
      "Baixando o vídeo 14/18 - Audio Traduções\n",
      "Baixando o vídeo 15/18 - Audio Traduções\n",
      "Baixando o vídeo 16/18 - Audio Traduções\n"
     ]
    },
    {
     "ename": "KeyError",
     "evalue": "'streamingData'",
     "output_type": "error",
     "traceback": [
      "\u001b[1;31m---------------------------------------------------------------------------\u001b[0m",
      "\u001b[1;31mKeyError\u001b[0m                                  Traceback (most recent call last)",
      "\u001b[1;32mc:\\temp/ipykernel_2348/2554146506.py\u001b[0m in \u001b[0;36m<module>\u001b[1;34m\u001b[0m\n\u001b[0;32m      3\u001b[0m \u001b[1;32mfor\u001b[0m \u001b[0mindice\u001b[0m\u001b[1;33m,\u001b[0m \u001b[0mvideo\u001b[0m \u001b[1;32min\u001b[0m \u001b[0menumerate\u001b[0m\u001b[1;33m(\u001b[0m\u001b[0mplyt\u001b[0m\u001b[1;33m.\u001b[0m\u001b[0mvideos\u001b[0m\u001b[1;33m)\u001b[0m\u001b[1;33m:\u001b[0m\u001b[1;33m\u001b[0m\u001b[1;33m\u001b[0m\u001b[0m\n\u001b[0;32m      4\u001b[0m     \u001b[0mprint\u001b[0m\u001b[1;33m(\u001b[0m\u001b[1;34mf'Baixando o vídeo {indice + 1}/{len(plyt)} - {plyt.title}'\u001b[0m\u001b[1;33m)\u001b[0m\u001b[1;33m\u001b[0m\u001b[1;33m\u001b[0m\u001b[0m\n\u001b[1;32m----> 5\u001b[1;33m     \u001b[0mvideo\u001b[0m\u001b[1;33m.\u001b[0m\u001b[0mstreams\u001b[0m\u001b[1;33m.\u001b[0m\u001b[0mfirst\u001b[0m\u001b[1;33m(\u001b[0m\u001b[1;33m)\u001b[0m\u001b[1;33m.\u001b[0m\u001b[0mdownload\u001b[0m\u001b[1;33m(\u001b[0m\u001b[0mpath\u001b[0m\u001b[1;33m)\u001b[0m\u001b[1;33m\u001b[0m\u001b[1;33m\u001b[0m\u001b[0m\n\u001b[0m\u001b[0;32m      6\u001b[0m \u001b[1;33m\u001b[0m\u001b[0m\n\u001b[0;32m      7\u001b[0m \u001b[0mprint\u001b[0m\u001b[1;33m(\u001b[0m\u001b[1;34m'Todos os vídeos foram baixados'\u001b[0m\u001b[1;33m)\u001b[0m\u001b[1;33m\u001b[0m\u001b[1;33m\u001b[0m\u001b[0m\n",
      "\u001b[1;32m~\\Anaconda3\\lib\\site-packages\\pytube\\__main__.py\u001b[0m in \u001b[0;36mstreams\u001b[1;34m(self)\u001b[0m\n\u001b[0;32m    290\u001b[0m         \"\"\"\n\u001b[0;32m    291\u001b[0m         \u001b[0mself\u001b[0m\u001b[1;33m.\u001b[0m\u001b[0mcheck_availability\u001b[0m\u001b[1;33m(\u001b[0m\u001b[1;33m)\u001b[0m\u001b[1;33m\u001b[0m\u001b[1;33m\u001b[0m\u001b[0m\n\u001b[1;32m--> 292\u001b[1;33m         \u001b[1;32mreturn\u001b[0m \u001b[0mStreamQuery\u001b[0m\u001b[1;33m(\u001b[0m\u001b[0mself\u001b[0m\u001b[1;33m.\u001b[0m\u001b[0mfmt_streams\u001b[0m\u001b[1;33m)\u001b[0m\u001b[1;33m\u001b[0m\u001b[1;33m\u001b[0m\u001b[0m\n\u001b[0m\u001b[0;32m    293\u001b[0m \u001b[1;33m\u001b[0m\u001b[0m\n\u001b[0;32m    294\u001b[0m     \u001b[1;33m@\u001b[0m\u001b[0mproperty\u001b[0m\u001b[1;33m\u001b[0m\u001b[1;33m\u001b[0m\u001b[0m\n",
      "\u001b[1;32m~\\Anaconda3\\lib\\site-packages\\pytube\\__main__.py\u001b[0m in \u001b[0;36mfmt_streams\u001b[1;34m(self)\u001b[0m\n\u001b[0;32m    170\u001b[0m         \u001b[0mself\u001b[0m\u001b[1;33m.\u001b[0m\u001b[0m_fmt_streams\u001b[0m \u001b[1;33m=\u001b[0m \u001b[1;33m[\u001b[0m\u001b[1;33m]\u001b[0m\u001b[1;33m\u001b[0m\u001b[1;33m\u001b[0m\u001b[0m\n\u001b[0;32m    171\u001b[0m \u001b[1;33m\u001b[0m\u001b[0m\n\u001b[1;32m--> 172\u001b[1;33m         \u001b[0mstream_manifest\u001b[0m \u001b[1;33m=\u001b[0m \u001b[0mextract\u001b[0m\u001b[1;33m.\u001b[0m\u001b[0mapply_descrambler\u001b[0m\u001b[1;33m(\u001b[0m\u001b[0mself\u001b[0m\u001b[1;33m.\u001b[0m\u001b[0mstreaming_data\u001b[0m\u001b[1;33m)\u001b[0m\u001b[1;33m\u001b[0m\u001b[1;33m\u001b[0m\u001b[0m\n\u001b[0m\u001b[0;32m    173\u001b[0m \u001b[1;33m\u001b[0m\u001b[0m\n\u001b[0;32m    174\u001b[0m         \u001b[1;31m# If the cached js doesn't work, try fetching a new js file\u001b[0m\u001b[1;33m\u001b[0m\u001b[1;33m\u001b[0m\u001b[0m\n",
      "\u001b[1;32m~\\Anaconda3\\lib\\site-packages\\pytube\\__main__.py\u001b[0m in \u001b[0;36mstreaming_data\u001b[1;34m(self)\u001b[0m\n\u001b[0;32m    155\u001b[0m         \u001b[1;32melse\u001b[0m\u001b[1;33m:\u001b[0m\u001b[1;33m\u001b[0m\u001b[1;33m\u001b[0m\u001b[0m\n\u001b[0;32m    156\u001b[0m             \u001b[0mself\u001b[0m\u001b[1;33m.\u001b[0m\u001b[0mbypass_age_gate\u001b[0m\u001b[1;33m(\u001b[0m\u001b[1;33m)\u001b[0m\u001b[1;33m\u001b[0m\u001b[1;33m\u001b[0m\u001b[0m\n\u001b[1;32m--> 157\u001b[1;33m             \u001b[1;32mreturn\u001b[0m \u001b[0mself\u001b[0m\u001b[1;33m.\u001b[0m\u001b[0mvid_info\u001b[0m\u001b[1;33m[\u001b[0m\u001b[1;34m'streamingData'\u001b[0m\u001b[1;33m]\u001b[0m\u001b[1;33m\u001b[0m\u001b[1;33m\u001b[0m\u001b[0m\n\u001b[0m\u001b[0;32m    158\u001b[0m \u001b[1;33m\u001b[0m\u001b[0m\n\u001b[0;32m    159\u001b[0m     \u001b[1;33m@\u001b[0m\u001b[0mproperty\u001b[0m\u001b[1;33m\u001b[0m\u001b[1;33m\u001b[0m\u001b[0m\n",
      "\u001b[1;31mKeyError\u001b[0m: 'streamingData'"
     ]
    }
   ],
   "source": [
    "print(f'Iniciando o download dos vídeos da playlist: {plyt.title}\\n')\n",
    "\n",
    "for indice, video in enumerate(plyt.videos):\n",
    "    print(f'Baixando o vídeo {indice + 1}/{len(plyt)} - {plyt.title}')\n",
    "    video.streams.first().download(path)\n",
    "    \n",
    "print('Todos os vídeos foram baixados')"
   ]
  },
  {
   "cell_type": "code",
   "execution_count": null,
   "id": "9a71fd69",
   "metadata": {},
   "outputs": [],
   "source": []
  }
 ],
 "metadata": {
  "kernelspec": {
   "display_name": "Python 3 (ipykernel)",
   "language": "python",
   "name": "python3"
  },
  "language_info": {
   "codemirror_mode": {
    "name": "ipython",
    "version": 3
   },
   "file_extension": ".py",
   "mimetype": "text/x-python",
   "name": "python",
   "nbconvert_exporter": "python",
   "pygments_lexer": "ipython3",
   "version": "3.9.7"
  }
 },
 "nbformat": 4,
 "nbformat_minor": 5
}
