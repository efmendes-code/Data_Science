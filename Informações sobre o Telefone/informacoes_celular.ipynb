{
 "cells": [
  {
   "cell_type": "markdown",
   "id": "8e5cc2c1",
   "metadata": {},
   "source": [
    "# Trabalhando com número de telefone"
   ]
  },
  {
   "cell_type": "markdown",
   "id": "af186293",
   "metadata": {},
   "source": [
    "Referência: https://pypi.org/project/phonenumbers/"
   ]
  },
  {
   "cell_type": "code",
   "execution_count": 7,
   "id": "33a6079b",
   "metadata": {},
   "outputs": [],
   "source": [
    "# Instalação da biblioteca phonenumbers \n",
    "#!pip install phonenumbers"
   ]
  },
  {
   "cell_type": "code",
   "execution_count": 9,
   "id": "8ef3969c",
   "metadata": {},
   "outputs": [],
   "source": [
    "# Importando a biblioteca phonenumbers\n",
    "import phonenumbers as phn"
   ]
  },
  {
   "cell_type": "code",
   "execution_count": 15,
   "id": "adb8b062",
   "metadata": {},
   "outputs": [
    {
     "name": "stdout",
     "output_type": "stream",
     "text": [
      "Country Code: 55 National Number: 19993162908\n"
     ]
    }
   ],
   "source": [
    "# Formatando o telefone com o phonenumbers\n",
    "telefone = '+5519993162908'\n",
    "telefone_ajustado = phn.parse(telefone)\n",
    "print(telefone_ajustado)"
   ]
  },
  {
   "cell_type": "code",
   "execution_count": 11,
   "id": "eb0f35d5",
   "metadata": {},
   "outputs": [
    {
     "name": "stdout",
     "output_type": "stream",
     "text": [
      "São Paulo\n"
     ]
    }
   ],
   "source": [
    "# Descobrir a localização do telefone\n",
    "from phonenumbers import geocoder\n",
    "local = geocoder.description_for_number(telefone_ajustado, 'pt-br')\n",
    "print(local)"
   ]
  },
  {
   "cell_type": "code",
   "execution_count": 16,
   "id": "901b519e",
   "metadata": {},
   "outputs": [
    {
     "name": "stdout",
     "output_type": "stream",
     "text": [
      "(19) 99316-2908\n"
     ]
    }
   ],
   "source": [
    "# Formatando o número de um telefone\n",
    "telefone_formulario = '19993162908'\n",
    "telefone_formatado = phn.parse(telefone_formulario, 'BR')\n",
    "telefone_formatado = phn.format_number(telefone_formatado,\n",
    "                                      phn.PhoneNumberFormat.NATIONAL)\n",
    "print(telefone_formatado)"
   ]
  },
  {
   "cell_type": "code",
   "execution_count": 17,
   "id": "0267a459",
   "metadata": {},
   "outputs": [
    {
     "name": "stdout",
     "output_type": "stream",
     "text": [
      "Claro\n"
     ]
    }
   ],
   "source": [
    "# Descobrindo a operadora do telefone\n",
    "from phonenumbers import carrier\n",
    "operadora = carrier.name_for_number(telefone_ajustado,'pt-br')\n",
    "print(operadora)"
   ]
  },
  {
   "cell_type": "code",
   "execution_count": 19,
   "id": "96dfd31f",
   "metadata": {},
   "outputs": [
    {
     "name": "stdout",
     "output_type": "stream",
     "text": [
      "PhoneNumberMatch [184,198) (19) 993162908\n"
     ]
    }
   ],
   "source": [
    "# Retirar o telefone de um texto\n",
    "corpo_email = '''Prezados,\n",
    "                \n",
    "                Quando tiverem uma resposta da proposta, favor entrar em contato.\n",
    "                \n",
    "                Abs.\n",
    "                Lira\n",
    "                (19) 993162908'''\n",
    "for telefone in phn.PhoneNumberMatcher(corpo_email, 'BR'):\n",
    "    print(telefone)"
   ]
  },
  {
   "cell_type": "code",
   "execution_count": null,
   "id": "78c7a9ad",
   "metadata": {},
   "outputs": [],
   "source": []
  }
 ],
 "metadata": {
  "kernelspec": {
   "display_name": "Python 3 (ipykernel)",
   "language": "python",
   "name": "python3"
  },
  "language_info": {
   "codemirror_mode": {
    "name": "ipython",
    "version": 3
   },
   "file_extension": ".py",
   "mimetype": "text/x-python",
   "name": "python",
   "nbconvert_exporter": "python",
   "pygments_lexer": "ipython3",
   "version": "3.9.7"
  }
 },
 "nbformat": 4,
 "nbformat_minor": 5
}
