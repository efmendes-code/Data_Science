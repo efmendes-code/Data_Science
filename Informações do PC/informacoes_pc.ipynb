{
 "cells": [
  {
   "cell_type": "markdown",
   "id": "b1f4caa8",
   "metadata": {},
   "source": [
    "# Capturando informações do PC com Python"
   ]
  },
  {
   "cell_type": "code",
   "execution_count": 1,
   "id": "4a43aafc",
   "metadata": {},
   "outputs": [],
   "source": [
    "# Importanto as bibliotecas\n",
    "# Caso a biblioteca não esteja instalada, rode o seguinte comando:\n",
    "# !pip install wmi\n",
    "import wmi"
   ]
  },
  {
   "cell_type": "code",
   "execution_count": 2,
   "id": "d2a74105",
   "metadata": {},
   "outputs": [],
   "source": [
    "# Carrega as informações\n",
    "c = wmi.WMI()\n",
    "my_system = c.Win32_ComputerSystem()[0]"
   ]
  },
  {
   "cell_type": "code",
   "execution_count": 3,
   "id": "cfc2f451",
   "metadata": {},
   "outputs": [
    {
     "name": "stdout",
     "output_type": "stream",
     "text": [
      "Marca: Dell Inc.\n",
      "Modelo: OptiPlex 3070\n",
      "Nome: TIM11\n",
      "Qtde. CPUs: 1\n",
      "Arquitetura: x64-based PC\n",
      "Família: OptiPlex\n"
     ]
    }
   ],
   "source": [
    "# Mostra os resultados\n",
    "print(f'Marca: {my_system.Manufacturer}')\n",
    "print(f'Modelo: {my_system.Model}')\n",
    "print(f'Nome: {my_system.Name}')\n",
    "print(f'Qtde. CPUs: {my_system.NumberOfProcessors}')\n",
    "print(f'Arquitetura: {my_system.SystemType}')\n",
    "print(f'Família: {my_system.SystemFamily}')"
   ]
  },
  {
   "cell_type": "code",
   "execution_count": null,
   "id": "0d50c0eb",
   "metadata": {},
   "outputs": [],
   "source": []
  }
 ],
 "metadata": {
  "kernelspec": {
   "display_name": "Python 3 (ipykernel)",
   "language": "python",
   "name": "python3"
  },
  "language_info": {
   "codemirror_mode": {
    "name": "ipython",
    "version": 3
   },
   "file_extension": ".py",
   "mimetype": "text/x-python",
   "name": "python",
   "nbconvert_exporter": "python",
   "pygments_lexer": "ipython3",
   "version": "3.9.7"
  }
 },
 "nbformat": 4,
 "nbformat_minor": 5
}
