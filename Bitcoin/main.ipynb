{
 "cells": [
  {
   "cell_type": "code",
   "execution_count": 2,
   "id": "88a8a2e8",
   "metadata": {},
   "outputs": [],
   "source": [
    "# Importando das bibliotecas\n",
    "from tkinter import *\n",
    "from tkinter import ttk\n",
    "from PIL import ImageTk, Image\n",
    "\n",
    "import requests\n",
    "import json"
   ]
  },
  {
   "cell_type": "code",
   "execution_count": 3,
   "id": "95f4fda9",
   "metadata": {},
   "outputs": [],
   "source": [
    "# Definição das cores\n",
    "\n",
    "co0 = '#444466' # preto\n",
    "co1 = '#feffff' # branca\n",
    "co2 = '#6f9fbd' # azul\n",
    "\n",
    "fundo = '#484f60' "
   ]
  },
  {
   "cell_type": "code",
   "execution_count": 19,
   "id": "ad3ba8fa",
   "metadata": {},
   "outputs": [],
   "source": [
    "# Criando janela\n",
    "janela = Tk()\n",
    "janela.title('')\n",
    "janela.geometry('320x350')\n",
    "janela.configure(bg=fundo)\n",
    "\n",
    "# Dividindo a janela em dois frames\n",
    "ttk.Separator(janela, orient=HORIZONTAL).grid(row=0, columnspan=1, ipadx=157)\n",
    "\n",
    "frame_cima = Frame(janela, width=320, height=50, bg=co1, pady=0, padx=0, relief='flat')\n",
    "frame_cima.grid(row=1, column=0)\n",
    "\n",
    "frame_baixo = Frame(janela, width=320, height=300, bg=fundo, pady=0, padx=0, relief='flat')\n",
    "frame_baixo.grid(row=2, column=0, sticky=NW )\n",
    "\n",
    "def info():\n",
    "    api_link = 'https://min-api.cryptocompare.com/data/price?fsym=BTC&tsyms=USD,EUR,AOA,BRL'\n",
    "    response = requests.get(api_link)\n",
    "    dados = response.json()\n",
    "    \n",
    "    valor_usd = float(dados['USD'])\n",
    "    valor_formatado_usd = '$ {:,.3f}'.format(valor_usd)\n",
    "    l_p_usd['text']=valor_formatado_usd\n",
    "    \n",
    "    valor_euro = float(dados['EUR'])\n",
    "    valor_formatado_euro = '{:,.3f}'.format(valor_euro)\n",
    "    l_p_euro['text']='Em Euro é : € ' + valor_formatado_euro\n",
    "    \n",
    "    valor_real = float(dados['BRL'])\n",
    "    valor_formatado_real = '{:,.3f}'.format(valor_real)\n",
    "    l_p_real['text']='Em Reais é : R$ ' + valor_formatado_real\n",
    "    \n",
    "    valor_kz = float(dados['AOA'])\n",
    "    valor_formatado_kz = '{:,.3f}'.format(valor_kz)\n",
    "    l_p_kz['text']='Em Kwanzas é : AOA ' + valor_formatado_kz\n",
    "    \n",
    "    frame_baixo.after(1000,info)\n",
    "\n",
    "\n",
    "imagem = Image.open('icons8-bitcoin-48.png')\n",
    "imagem = imagem.resize((30,30), Image.ANTIALIAS)\n",
    "imagem = ImageTk.PhotoImage(imagem)\n",
    "\n",
    "# Carregando o icone\n",
    "l_icon = Label(frame_cima, image=imagem, compound=LEFT, bg=co1, relief=FLAT)\n",
    "l_icon.place(x=10, y=10)\n",
    "\n",
    "l_nome = Label(frame_cima, text='Bitcoin Price Tracker', bg=co1, fg=co2, relief=FLAT, anchor='center', font=('Arial 20'))\n",
    "l_nome.place(x=50, y=5)\n",
    "\n",
    "l_p_usd = Label(frame_baixo, text='', bg=fundo, fg=co1, relief=FLAT, anchor='center', font=('Arial 20'))\n",
    "l_p_usd.place(x=10, y=50)\n",
    "\n",
    "l_p_euro = Label(frame_baixo, text='', bg=fundo, fg=co1, relief=FLAT, anchor='center', font=('Arial 12'))\n",
    "l_p_euro.place(x=10, y=130)\n",
    "\n",
    "l_p_real = Label(frame_baixo, text='', bg=fundo, fg=co1, relief=FLAT, anchor='center', font=('Arial 12'))\n",
    "l_p_real.place(x=10, y=160)\n",
    "\n",
    "l_p_kz = Label(frame_baixo, text='', bg=fundo, fg=co1, relief=FLAT, anchor='center', font=('Arial 12'))\n",
    "l_p_kz.place(x=10, y=190)\n",
    "\n",
    "info()\n",
    "\n",
    "janela.mainloop()"
   ]
  },
  {
   "cell_type": "code",
   "execution_count": null,
   "id": "9130d25a",
   "metadata": {},
   "outputs": [],
   "source": []
  },
  {
   "cell_type": "code",
   "execution_count": null,
   "id": "3b599133",
   "metadata": {},
   "outputs": [],
   "source": []
  }
 ],
 "metadata": {
  "kernelspec": {
   "display_name": "Python 3 (ipykernel)",
   "language": "python",
   "name": "python3"
  },
  "language_info": {
   "codemirror_mode": {
    "name": "ipython",
    "version": 3
   },
   "file_extension": ".py",
   "mimetype": "text/x-python",
   "name": "python",
   "nbconvert_exporter": "python",
   "pygments_lexer": "ipython3",
   "version": "3.9.7"
  }
 },
 "nbformat": 4,
 "nbformat_minor": 5
}
