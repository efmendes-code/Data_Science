{
 "cells": [
  {
   "cell_type": "markdown",
   "id": "dae6ffb9",
   "metadata": {},
   "source": [
    "# Faz o download de imagens e quantidades informadas"
   ]
  },
  {
   "cell_type": "code",
   "execution_count": 5,
   "id": "98a2f686",
   "metadata": {},
   "outputs": [],
   "source": [
    "#!pip install bing_images_download\n",
    "#!pip install simple_image_download"
   ]
  },
  {
   "cell_type": "code",
   "execution_count": null,
   "id": "223e3074",
   "metadata": {},
   "outputs": [],
   "source": [
    "# Importa a biblioteca\n",
    "from simple_image_download import simple_image_download as simp"
   ]
  },
  {
   "cell_type": "code",
   "execution_count": null,
   "id": "2aeceaed",
   "metadata": {},
   "outputs": [],
   "source": [
    "# Solicita o que pesquisar e a quantidade\n",
    "pesquisa = input('Digite o que você quer pesquisar: ')\n",
    "qnt = int(input('Digite quantas imagens você quer pesquisar: '))"
   ]
  },
  {
   "cell_type": "code",
   "execution_count": 4,
   "id": "228bd3d6",
   "metadata": {},
   "outputs": [
    {
     "name": "stdout",
     "output_type": "stream",
     "text": [
      "Digite o que você quer pesquisar: gato\n",
      "Digite quantas imagens você quer pesquisar: 3\n"
     ]
    },
    {
     "name": "stderr",
     "output_type": "stream",
     "text": [
      "[========================================================================] 100%\n",
      "[========================================================================] 100%\r"
     ]
    },
    {
     "name": "stdout",
     "output_type": "stream",
     "text": [
      "['https://inovaveterinaria.com.br/wp-content/uploads/2015/04/gato-sem-raca-INOVA-scaled.jpg', 'https://saude.abril.com.br/wp-content/uploads/2020/04/gato-coronavc3adrus.jpg', 'https://seres.vet/blog/wp-content/uploads/2020/11/gato-se-cocando-muito2.jpg']\n"
     ]
    },
    {
     "name": "stderr",
     "output_type": "stream",
     "text": [
      "\n"
     ]
    }
   ],
   "source": [
    "# Cria a função para pesquisar e fazer download\n",
    "def downloadSimpleImages(query):\n",
    "    response2 = simp.simple_image_download\n",
    "    response2().download(query, qnt)\n",
    "    print(response2().urls(query, qnt))\n",
    "print('Fim!')"
   ]
  },
  {
   "cell_type": "markdown",
   "id": "e3cd423a",
   "metadata": {},
   "source": [
    "### "
   ]
  }
 ],
 "metadata": {
  "kernelspec": {
   "display_name": "Python 3 (ipykernel)",
   "language": "python",
   "name": "python3"
  },
  "language_info": {
   "codemirror_mode": {
    "name": "ipython",
    "version": 3
   },
   "file_extension": ".py",
   "mimetype": "text/x-python",
   "name": "python",
   "nbconvert_exporter": "python",
   "pygments_lexer": "ipython3",
   "version": "3.9.7"
  }
 },
 "nbformat": 4,
 "nbformat_minor": 5
}
