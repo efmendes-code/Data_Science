{
 "cells": [
  {
   "cell_type": "markdown",
   "id": "be245da5",
   "metadata": {},
   "source": [
    "# Estatítica do Brasileirão"
   ]
  },
  {
   "cell_type": "code",
   "execution_count": 1,
   "id": "58b4600b",
   "metadata": {},
   "outputs": [],
   "source": [
    "# Importar as bibliotecas\n",
    "import pandas as pd\n",
    "import numpy as np"
   ]
  },
  {
   "cell_type": "code",
   "execution_count": 2,
   "id": "1d1cc356",
   "metadata": {},
   "outputs": [],
   "source": [
    "# Carregar o dataframe\n",
    "df = pd.read_csv('campeonato-brasileiro-full.csv', sep=';')"
   ]
  },
  {
   "cell_type": "code",
   "execution_count": 3,
   "id": "72d72a83",
   "metadata": {},
   "outputs": [
    {
     "data": {
      "text/html": [
       "<div>\n",
       "<style scoped>\n",
       "    .dataframe tbody tr th:only-of-type {\n",
       "        vertical-align: middle;\n",
       "    }\n",
       "\n",
       "    .dataframe tbody tr th {\n",
       "        vertical-align: top;\n",
       "    }\n",
       "\n",
       "    .dataframe thead th {\n",
       "        text-align: right;\n",
       "    }\n",
       "</style>\n",
       "<table border=\"1\" class=\"dataframe\">\n",
       "  <thead>\n",
       "    <tr style=\"text-align: right;\">\n",
       "      <th></th>\n",
       "      <th>ID</th>\n",
       "      <th>Rodada</th>\n",
       "      <th>Data</th>\n",
       "      <th>Horário</th>\n",
       "      <th>Dia</th>\n",
       "      <th>Mandante</th>\n",
       "      <th>Visitante</th>\n",
       "      <th>Vencedor</th>\n",
       "      <th>Arena</th>\n",
       "      <th>Mandante Placar</th>\n",
       "      <th>Visitante Placar</th>\n",
       "      <th>Estado Mandante</th>\n",
       "      <th>Estado Visitante</th>\n",
       "      <th>Estado Vencedor</th>\n",
       "    </tr>\n",
       "  </thead>\n",
       "  <tbody>\n",
       "    <tr>\n",
       "      <th>0</th>\n",
       "      <td>1</td>\n",
       "      <td>1</td>\n",
       "      <td>2000-07-29</td>\n",
       "      <td>16h00</td>\n",
       "      <td>Sábado</td>\n",
       "      <td>Fluminense</td>\n",
       "      <td>Bahia</td>\n",
       "      <td>Fluminense</td>\n",
       "      <td>Maracanã</td>\n",
       "      <td>2.0</td>\n",
       "      <td>0.0</td>\n",
       "      <td>RJ</td>\n",
       "      <td>BA</td>\n",
       "      <td>RJ</td>\n",
       "    </tr>\n",
       "    <tr>\n",
       "      <th>1</th>\n",
       "      <td>2</td>\n",
       "      <td>1</td>\n",
       "      <td>2000-07-29</td>\n",
       "      <td>16h00</td>\n",
       "      <td>Sábado</td>\n",
       "      <td>Vasco</td>\n",
       "      <td>Sport</td>\n",
       "      <td>Sport</td>\n",
       "      <td>São Januário</td>\n",
       "      <td>0.0</td>\n",
       "      <td>2.0</td>\n",
       "      <td>RJ</td>\n",
       "      <td>PE</td>\n",
       "      <td>PE</td>\n",
       "    </tr>\n",
       "    <tr>\n",
       "      <th>2</th>\n",
       "      <td>3</td>\n",
       "      <td>1</td>\n",
       "      <td>2000-07-29</td>\n",
       "      <td>16h00</td>\n",
       "      <td>Sábado</td>\n",
       "      <td>Vitória</td>\n",
       "      <td>Palmeiras</td>\n",
       "      <td>Vitória</td>\n",
       "      <td>Barradão</td>\n",
       "      <td>4.0</td>\n",
       "      <td>1.0</td>\n",
       "      <td>ES</td>\n",
       "      <td>SP</td>\n",
       "      <td>ES</td>\n",
       "    </tr>\n",
       "    <tr>\n",
       "      <th>3</th>\n",
       "      <td>4</td>\n",
       "      <td>1</td>\n",
       "      <td>2000-07-30</td>\n",
       "      <td>17h00</td>\n",
       "      <td>Domingo</td>\n",
       "      <td>Botafogo-RJ</td>\n",
       "      <td>Atlético-MG</td>\n",
       "      <td>-</td>\n",
       "      <td>Caio Martins</td>\n",
       "      <td>0.0</td>\n",
       "      <td>0.0</td>\n",
       "      <td>RJ</td>\n",
       "      <td>MG</td>\n",
       "      <td>-</td>\n",
       "    </tr>\n",
       "    <tr>\n",
       "      <th>4</th>\n",
       "      <td>5</td>\n",
       "      <td>1</td>\n",
       "      <td>2000-07-30</td>\n",
       "      <td>18h30</td>\n",
       "      <td>Domingo</td>\n",
       "      <td>Juventude</td>\n",
       "      <td>Flamengo</td>\n",
       "      <td>-</td>\n",
       "      <td>Alfredo Jaconi</td>\n",
       "      <td>1.0</td>\n",
       "      <td>1.0</td>\n",
       "      <td>RS</td>\n",
       "      <td>RJ</td>\n",
       "      <td>-</td>\n",
       "    </tr>\n",
       "  </tbody>\n",
       "</table>\n",
       "</div>"
      ],
      "text/plain": [
       "   ID Rodada        Data Horário      Dia     Mandante    Visitante  \\\n",
       "0   1      1  2000-07-29   16h00   Sábado   Fluminense        Bahia   \n",
       "1   2      1  2000-07-29   16h00   Sábado        Vasco        Sport   \n",
       "2   3      1  2000-07-29   16h00   Sábado      Vitória    Palmeiras   \n",
       "3   4      1  2000-07-30   17h00  Domingo  Botafogo-RJ  Atlético-MG   \n",
       "4   5      1  2000-07-30   18h30  Domingo    Juventude     Flamengo   \n",
       "\n",
       "     Vencedor           Arena  Mandante Placar  Visitante Placar  \\\n",
       "0  Fluminense        Maracanã              2.0               0.0   \n",
       "1       Sport    São Januário              0.0               2.0   \n",
       "2     Vitória        Barradão              4.0               1.0   \n",
       "3           -    Caio Martins              0.0               0.0   \n",
       "4           -  Alfredo Jaconi              1.0               1.0   \n",
       "\n",
       "  Estado Mandante Estado Visitante Estado Vencedor  \n",
       "0              RJ               BA              RJ  \n",
       "1              RJ               PE              PE  \n",
       "2              ES               SP              ES  \n",
       "3              RJ               MG               -  \n",
       "4              RS               RJ               -  "
      ]
     },
     "execution_count": 3,
     "metadata": {},
     "output_type": "execute_result"
    }
   ],
   "source": [
    "# Mostrar os primeiros registros do dataframe\n",
    "df.head()"
   ]
  },
  {
   "cell_type": "code",
   "execution_count": 4,
   "id": "6f0e5fc8",
   "metadata": {},
   "outputs": [
    {
     "data": {
      "text/plain": [
       "ID                           311\n",
       "Rodada              SEGUNDA FASE\n",
       "Data                  2000-11-26\n",
       "Horário                    17h00\n",
       "Dia                      Domingo\n",
       "Mandante                CRUZEIRO\n",
       "Visitante               MALUTROM\n",
       "Vencedor                       -\n",
       "Arena                   Mineirão\n",
       "Mandante Placar              1.0\n",
       "Visitante Placar             1.0\n",
       "Estado Mandante               MG\n",
       "Estado Visitante              PR\n",
       "Estado Vencedor                -\n",
       "Name: 310, dtype: object"
      ]
     },
     "execution_count": 4,
     "metadata": {},
     "output_type": "execute_result"
    }
   ],
   "source": [
    "# Localizar a linha 310\n",
    "df.loc[310]"
   ]
  },
  {
   "cell_type": "code",
   "execution_count": 5,
   "id": "ceb5d6a0",
   "metadata": {},
   "outputs": [
    {
     "data": {
      "text/plain": [
       "Data         2000-11-26\n",
       "Visitante      MALUTROM\n",
       "Mandante       CRUZEIRO\n",
       "Name: 310, dtype: object"
      ]
     },
     "execution_count": 5,
     "metadata": {},
     "output_type": "execute_result"
    }
   ],
   "source": [
    "# Localizar a linha 310, mandante, visitante e data do jogo\n",
    "df.loc[310][{'Mandante','Visitante','Data'}]"
   ]
  },
  {
   "cell_type": "code",
   "execution_count": 6,
   "id": "48e298ae",
   "metadata": {},
   "outputs": [],
   "source": [
    "# Criação de uma nova coluna no dataframe\n",
    "df['Total de Gols'] = df['Mandante Placar'] + df['Visitante Placar']"
   ]
  },
  {
   "cell_type": "code",
   "execution_count": 7,
   "id": "17acec6b",
   "metadata": {},
   "outputs": [
    {
     "data": {
      "text/plain": [
       "22244.0"
      ]
     },
     "execution_count": 7,
     "metadata": {},
     "output_type": "execute_result"
    }
   ],
   "source": [
    "# Total geral de gols\n",
    "df['Total de Gols'].sum()"
   ]
  },
  {
   "cell_type": "code",
   "execution_count": 8,
   "id": "e8142bb5",
   "metadata": {},
   "outputs": [
    {
     "data": {
      "text/plain": [
       "16h00    1804\n",
       "20h30     683\n",
       "18h30     643\n",
       "16:00     514\n",
       "18h10     506\n",
       "Name: Horário, dtype: int64"
      ]
     },
     "execution_count": 8,
     "metadata": {},
     "output_type": "execute_result"
    }
   ],
   "source": [
    "# Qual o horário que teve mais jogos\n",
    "df['Horário'].value_counts().head()"
   ]
  },
  {
   "cell_type": "code",
   "execution_count": 9,
   "id": "bba6ea8b",
   "metadata": {},
   "outputs": [
    {
     "data": {
      "text/plain": [
       "18:45    1\n",
       "21:46    1\n",
       "15:00    1\n",
       "09h00    1\n",
       "22h30    1\n",
       "Name: Horário, dtype: int64"
      ]
     },
     "execution_count": 9,
     "metadata": {},
     "output_type": "execute_result"
    }
   ],
   "source": [
    "# QUal o horário que teve menos jogos\n",
    "df[\"Horário\"].value_counts().sort_values().head()"
   ]
  },
  {
   "cell_type": "code",
   "execution_count": 10,
   "id": "0d2d5d05",
   "metadata": {},
   "outputs": [
    {
     "data": {
      "text/plain": [
       "Domingo          3859\n",
       "Sábado           1925\n",
       "Quarta-feira     1559\n",
       "Quinta-feira      657\n",
       "Segunda-feira     108\n",
       "Name: Dia, dtype: int64"
      ]
     },
     "execution_count": 10,
     "metadata": {},
     "output_type": "execute_result"
    }
   ],
   "source": [
    "# Qual o dia da semana teve mais jogos\n",
    "df['Dia'].value_counts().head()"
   ]
  },
  {
   "cell_type": "code",
   "execution_count": 11,
   "id": "c19df0d3",
   "metadata": {},
   "outputs": [
    {
     "data": {
      "text/html": [
       "<div>\n",
       "<style scoped>\n",
       "    .dataframe tbody tr th:only-of-type {\n",
       "        vertical-align: middle;\n",
       "    }\n",
       "\n",
       "    .dataframe tbody tr th {\n",
       "        vertical-align: top;\n",
       "    }\n",
       "\n",
       "    .dataframe thead th {\n",
       "        text-align: right;\n",
       "    }\n",
       "</style>\n",
       "<table border=\"1\" class=\"dataframe\">\n",
       "  <thead>\n",
       "    <tr style=\"text-align: right;\">\n",
       "      <th></th>\n",
       "      <th>ID</th>\n",
       "      <th>Rodada</th>\n",
       "      <th>Data</th>\n",
       "      <th>Horário</th>\n",
       "      <th>Dia</th>\n",
       "      <th>Mandante</th>\n",
       "      <th>Visitante</th>\n",
       "      <th>Vencedor</th>\n",
       "      <th>Arena</th>\n",
       "      <th>Mandante Placar</th>\n",
       "      <th>Visitante Placar</th>\n",
       "      <th>Estado Mandante</th>\n",
       "      <th>Estado Visitante</th>\n",
       "      <th>Estado Vencedor</th>\n",
       "      <th>Total de Gols</th>\n",
       "    </tr>\n",
       "  </thead>\n",
       "  <tbody>\n",
       "    <tr>\n",
       "      <th>0</th>\n",
       "      <td>1</td>\n",
       "      <td>1</td>\n",
       "      <td>2000-07-29</td>\n",
       "      <td>16h00</td>\n",
       "      <td>Sábado</td>\n",
       "      <td>FLUMINENSE</td>\n",
       "      <td>BAHIA</td>\n",
       "      <td>Fluminense</td>\n",
       "      <td>Maracanã</td>\n",
       "      <td>2.0</td>\n",
       "      <td>0.0</td>\n",
       "      <td>RJ</td>\n",
       "      <td>BA</td>\n",
       "      <td>RJ</td>\n",
       "      <td>2.0</td>\n",
       "    </tr>\n",
       "    <tr>\n",
       "      <th>1</th>\n",
       "      <td>2</td>\n",
       "      <td>1</td>\n",
       "      <td>2000-07-29</td>\n",
       "      <td>16h00</td>\n",
       "      <td>Sábado</td>\n",
       "      <td>VASCO</td>\n",
       "      <td>SPORT</td>\n",
       "      <td>Sport</td>\n",
       "      <td>São Januário</td>\n",
       "      <td>0.0</td>\n",
       "      <td>2.0</td>\n",
       "      <td>RJ</td>\n",
       "      <td>PE</td>\n",
       "      <td>PE</td>\n",
       "      <td>2.0</td>\n",
       "    </tr>\n",
       "    <tr>\n",
       "      <th>2</th>\n",
       "      <td>3</td>\n",
       "      <td>1</td>\n",
       "      <td>2000-07-29</td>\n",
       "      <td>16h00</td>\n",
       "      <td>Sábado</td>\n",
       "      <td>VITÓRIA</td>\n",
       "      <td>PALMEIRAS</td>\n",
       "      <td>Vitória</td>\n",
       "      <td>Barradão</td>\n",
       "      <td>4.0</td>\n",
       "      <td>1.0</td>\n",
       "      <td>ES</td>\n",
       "      <td>SP</td>\n",
       "      <td>ES</td>\n",
       "      <td>5.0</td>\n",
       "    </tr>\n",
       "    <tr>\n",
       "      <th>3</th>\n",
       "      <td>4</td>\n",
       "      <td>1</td>\n",
       "      <td>2000-07-30</td>\n",
       "      <td>17h00</td>\n",
       "      <td>Domingo</td>\n",
       "      <td>BOTAFOGO-RJ</td>\n",
       "      <td>ATLÉTICO-MG</td>\n",
       "      <td>-</td>\n",
       "      <td>Caio Martins</td>\n",
       "      <td>0.0</td>\n",
       "      <td>0.0</td>\n",
       "      <td>RJ</td>\n",
       "      <td>MG</td>\n",
       "      <td>-</td>\n",
       "      <td>0.0</td>\n",
       "    </tr>\n",
       "    <tr>\n",
       "      <th>4</th>\n",
       "      <td>5</td>\n",
       "      <td>1</td>\n",
       "      <td>2000-07-30</td>\n",
       "      <td>18h30</td>\n",
       "      <td>Domingo</td>\n",
       "      <td>JUVENTUDE</td>\n",
       "      <td>FLAMENGO</td>\n",
       "      <td>-</td>\n",
       "      <td>Alfredo Jaconi</td>\n",
       "      <td>1.0</td>\n",
       "      <td>1.0</td>\n",
       "      <td>RS</td>\n",
       "      <td>RJ</td>\n",
       "      <td>-</td>\n",
       "      <td>2.0</td>\n",
       "    </tr>\n",
       "  </tbody>\n",
       "</table>\n",
       "</div>"
      ],
      "text/plain": [
       "   ID Rodada        Data Horário      Dia     Mandante    Visitante  \\\n",
       "0   1      1  2000-07-29   16h00   Sábado   FLUMINENSE        BAHIA   \n",
       "1   2      1  2000-07-29   16h00   Sábado        VASCO        SPORT   \n",
       "2   3      1  2000-07-29   16h00   Sábado      VITÓRIA    PALMEIRAS   \n",
       "3   4      1  2000-07-30   17h00  Domingo  BOTAFOGO-RJ  ATLÉTICO-MG   \n",
       "4   5      1  2000-07-30   18h30  Domingo    JUVENTUDE     FLAMENGO   \n",
       "\n",
       "     Vencedor           Arena  Mandante Placar  Visitante Placar  \\\n",
       "0  Fluminense        Maracanã              2.0               0.0   \n",
       "1       Sport    São Januário              0.0               2.0   \n",
       "2     Vitória        Barradão              4.0               1.0   \n",
       "3           -    Caio Martins              0.0               0.0   \n",
       "4           -  Alfredo Jaconi              1.0               1.0   \n",
       "\n",
       "  Estado Mandante Estado Visitante Estado Vencedor  Total de Gols  \n",
       "0              RJ               BA              RJ            2.0  \n",
       "1              RJ               PE              PE            2.0  \n",
       "2              ES               SP              ES            5.0  \n",
       "3              RJ               MG               -            0.0  \n",
       "4              RS               RJ               -            2.0  "
      ]
     },
     "execution_count": 11,
     "metadata": {},
     "output_type": "execute_result"
    }
   ],
   "source": [
    "# Coloca o nome do Mandante e Visitante em maiusculo\n",
    "df['Mandante'] = df['Mandante'].str.upper()\n",
    "df['Visitante'] = df['Visitante'].str.upper()\n",
    "df.head()"
   ]
  },
  {
   "cell_type": "code",
   "execution_count": 12,
   "id": "2e3fc644",
   "metadata": {},
   "outputs": [
    {
     "data": {
      "text/plain": [
       "FLUMINENSE     108\n",
       "SÃO PAULO      106\n",
       "FLAMENGO       104\n",
       "CORINTHIANS    101\n",
       "SANTOS         101\n",
       "Name: Mandante, dtype: int64"
      ]
     },
     "execution_count": 12,
     "metadata": {},
     "output_type": "execute_result"
    }
   ],
   "source": [
    "# Qual foi o time que mais impatou como mandante\n",
    "df[df['Vencedor'] == '-']['Mandante'].value_counts().head()"
   ]
  },
  {
   "cell_type": "code",
   "execution_count": 13,
   "id": "32a1dcf1",
   "metadata": {},
   "outputs": [
    {
     "data": {
      "text/plain": [
       "FLUMINENSE     108\n",
       "SÃO PAULO      106\n",
       "FLAMENGO       104\n",
       "CORINTHIANS    101\n",
       "SANTOS         101\n",
       "Name: Mandante, dtype: int64"
      ]
     },
     "execution_count": 13,
     "metadata": {},
     "output_type": "execute_result"
    }
   ],
   "source": [
    "# Qual foi o time que mais impatou como mandante\n",
    "df[df['Vencedor'] == '-']['Mandante'].value_counts().head()"
   ]
  },
  {
   "cell_type": "code",
   "execution_count": 14,
   "id": "8bbd4994",
   "metadata": {},
   "outputs": [
    {
     "data": {
      "text/plain": [
       "CORINTHIANS    114\n",
       "FLAMENGO       110\n",
       "GRÊMIO         109\n",
       "SÃO PAULO      108\n",
       "ATLÉTICO-MG    106\n",
       "Name: Visitante, dtype: int64"
      ]
     },
     "execution_count": 14,
     "metadata": {},
     "output_type": "execute_result"
    }
   ],
   "source": [
    "# Qual foi o time que mais impatou como visitante\n",
    "df[df['Vencedor'] == '-']['Visitante'].value_counts().head()"
   ]
  },
  {
   "cell_type": "code",
   "execution_count": 15,
   "id": "fce53843",
   "metadata": {},
   "outputs": [
    {
     "data": {
      "text/html": [
       "<div>\n",
       "<style scoped>\n",
       "    .dataframe tbody tr th:only-of-type {\n",
       "        vertical-align: middle;\n",
       "    }\n",
       "\n",
       "    .dataframe tbody tr th {\n",
       "        vertical-align: top;\n",
       "    }\n",
       "\n",
       "    .dataframe thead th {\n",
       "        text-align: right;\n",
       "    }\n",
       "</style>\n",
       "<table border=\"1\" class=\"dataframe\">\n",
       "  <thead>\n",
       "    <tr style=\"text-align: right;\">\n",
       "      <th></th>\n",
       "      <th>ID</th>\n",
       "      <th>Rodada</th>\n",
       "      <th>Data</th>\n",
       "      <th>Horário</th>\n",
       "      <th>Dia</th>\n",
       "      <th>Mandante</th>\n",
       "      <th>Visitante</th>\n",
       "      <th>Vencedor</th>\n",
       "      <th>Arena</th>\n",
       "      <th>Mandante Placar</th>\n",
       "      <th>Visitante Placar</th>\n",
       "      <th>Estado Mandante</th>\n",
       "      <th>Estado Visitante</th>\n",
       "      <th>Estado Vencedor</th>\n",
       "      <th>Total de Gols</th>\n",
       "    </tr>\n",
       "  </thead>\n",
       "  <tbody>\n",
       "    <tr>\n",
       "      <th>0</th>\n",
       "      <td>1</td>\n",
       "      <td>1</td>\n",
       "      <td>2000-07-29</td>\n",
       "      <td>16h00</td>\n",
       "      <td>Sábado</td>\n",
       "      <td>FLUMINENSE</td>\n",
       "      <td>BAHIA</td>\n",
       "      <td>Fluminense</td>\n",
       "      <td>Maracanã</td>\n",
       "      <td>2.0</td>\n",
       "      <td>0.0</td>\n",
       "      <td>RJ</td>\n",
       "      <td>BA</td>\n",
       "      <td>RJ</td>\n",
       "      <td>2.0</td>\n",
       "    </tr>\n",
       "    <tr>\n",
       "      <th>1</th>\n",
       "      <td>2</td>\n",
       "      <td>1</td>\n",
       "      <td>2000-07-29</td>\n",
       "      <td>16h00</td>\n",
       "      <td>Sábado</td>\n",
       "      <td>VASCO</td>\n",
       "      <td>SPORT</td>\n",
       "      <td>Sport</td>\n",
       "      <td>São Januário</td>\n",
       "      <td>0.0</td>\n",
       "      <td>2.0</td>\n",
       "      <td>RJ</td>\n",
       "      <td>PE</td>\n",
       "      <td>PE</td>\n",
       "      <td>2.0</td>\n",
       "    </tr>\n",
       "    <tr>\n",
       "      <th>2</th>\n",
       "      <td>3</td>\n",
       "      <td>1</td>\n",
       "      <td>2000-07-29</td>\n",
       "      <td>16h00</td>\n",
       "      <td>Sábado</td>\n",
       "      <td>VITÓRIA</td>\n",
       "      <td>PALMEIRAS</td>\n",
       "      <td>Vitória</td>\n",
       "      <td>Barradão</td>\n",
       "      <td>4.0</td>\n",
       "      <td>1.0</td>\n",
       "      <td>ES</td>\n",
       "      <td>SP</td>\n",
       "      <td>ES</td>\n",
       "      <td>5.0</td>\n",
       "    </tr>\n",
       "    <tr>\n",
       "      <th>3</th>\n",
       "      <td>4</td>\n",
       "      <td>1</td>\n",
       "      <td>2000-07-30</td>\n",
       "      <td>17h00</td>\n",
       "      <td>Domingo</td>\n",
       "      <td>BOTAFOGO-RJ</td>\n",
       "      <td>ATLÉTICO-MG</td>\n",
       "      <td>-</td>\n",
       "      <td>Caio Martins</td>\n",
       "      <td>0.0</td>\n",
       "      <td>0.0</td>\n",
       "      <td>RJ</td>\n",
       "      <td>MG</td>\n",
       "      <td>-</td>\n",
       "      <td>0.0</td>\n",
       "    </tr>\n",
       "    <tr>\n",
       "      <th>4</th>\n",
       "      <td>5</td>\n",
       "      <td>1</td>\n",
       "      <td>2000-07-30</td>\n",
       "      <td>18h30</td>\n",
       "      <td>Domingo</td>\n",
       "      <td>JUVENTUDE</td>\n",
       "      <td>FLAMENGO</td>\n",
       "      <td>-</td>\n",
       "      <td>Alfredo Jaconi</td>\n",
       "      <td>1.0</td>\n",
       "      <td>1.0</td>\n",
       "      <td>RS</td>\n",
       "      <td>RJ</td>\n",
       "      <td>-</td>\n",
       "      <td>2.0</td>\n",
       "    </tr>\n",
       "  </tbody>\n",
       "</table>\n",
       "</div>"
      ],
      "text/plain": [
       "   ID Rodada        Data Horário      Dia     Mandante    Visitante  \\\n",
       "0   1      1  2000-07-29   16h00   Sábado   FLUMINENSE        BAHIA   \n",
       "1   2      1  2000-07-29   16h00   Sábado        VASCO        SPORT   \n",
       "2   3      1  2000-07-29   16h00   Sábado      VITÓRIA    PALMEIRAS   \n",
       "3   4      1  2000-07-30   17h00  Domingo  BOTAFOGO-RJ  ATLÉTICO-MG   \n",
       "4   5      1  2000-07-30   18h30  Domingo    JUVENTUDE     FLAMENGO   \n",
       "\n",
       "     Vencedor           Arena  Mandante Placar  Visitante Placar  \\\n",
       "0  Fluminense        Maracanã              2.0               0.0   \n",
       "1       Sport    São Januário              0.0               2.0   \n",
       "2     Vitória        Barradão              4.0               1.0   \n",
       "3           -    Caio Martins              0.0               0.0   \n",
       "4           -  Alfredo Jaconi              1.0               1.0   \n",
       "\n",
       "  Estado Mandante Estado Visitante Estado Vencedor  Total de Gols  \n",
       "0              RJ               BA              RJ            2.0  \n",
       "1              RJ               PE              PE            2.0  \n",
       "2              ES               SP              ES            5.0  \n",
       "3              RJ               MG               -            0.0  \n",
       "4              RS               RJ               -            2.0  "
      ]
     },
     "execution_count": 15,
     "metadata": {},
     "output_type": "execute_result"
    }
   ],
   "source": [
    "# Criar um novo dataframe agrupado por mandante\n",
    "df_mandante = df.groupby('Mandante')\n",
    "df.head()"
   ]
  },
  {
   "cell_type": "code",
   "execution_count": 16,
   "id": "157f58d3",
   "metadata": {},
   "outputs": [
    {
     "data": {
      "text/plain": [
       "Mandante\n",
       "SANTOS         745.0\n",
       "SÃO PAULO      697.0\n",
       "ATLÉTICO-MG    670.0\n",
       "CRUZEIRO       668.0\n",
       "GRÊMIO         648.0\n",
       "Name: Mandante Placar, dtype: float64"
      ]
     },
     "execution_count": 16,
     "metadata": {},
     "output_type": "execute_result"
    }
   ],
   "source": [
    "# Mostrar o time mandante com maior número de gols\n",
    "df_mandante['Mandante Placar'].sum().sort_values(ascending=False).head()\n"
   ]
  },
  {
   "cell_type": "code",
   "execution_count": 17,
   "id": "3d6b05ac",
   "metadata": {},
   "outputs": [
    {
     "ename": "AttributeError",
     "evalue": "'float' object has no attribute 'split'",
     "output_type": "error",
     "traceback": [
      "\u001b[1;31m---------------------------------------------------------------------------\u001b[0m",
      "\u001b[1;31mAttributeError\u001b[0m                            Traceback (most recent call last)",
      "\u001b[1;32mc:\\temp/ipykernel_19208/1633405749.py\u001b[0m in \u001b[0;36m<module>\u001b[1;34m\u001b[0m\n\u001b[0;32m      1\u001b[0m \u001b[1;31m# Criar uma coluna apenas com o ano da partidade\u001b[0m\u001b[1;33m\u001b[0m\u001b[1;33m\u001b[0m\u001b[0m\n\u001b[1;32m----> 2\u001b[1;33m \u001b[0mdf\u001b[0m\u001b[1;33m[\u001b[0m\u001b[1;34m'Ano'\u001b[0m\u001b[1;33m]\u001b[0m \u001b[1;33m=\u001b[0m \u001b[0mdf\u001b[0m\u001b[1;33m[\u001b[0m\u001b[1;34m'Data'\u001b[0m\u001b[1;33m]\u001b[0m\u001b[1;33m.\u001b[0m\u001b[0mapply\u001b[0m\u001b[1;33m(\u001b[0m\u001b[1;32mlambda\u001b[0m \u001b[0mdata\u001b[0m \u001b[1;33m:\u001b[0m \u001b[0mdata\u001b[0m\u001b[1;33m.\u001b[0m\u001b[0msplit\u001b[0m\u001b[1;33m(\u001b[0m\u001b[1;34m'-'\u001b[0m\u001b[1;33m)\u001b[0m\u001b[1;33m[\u001b[0m\u001b[1;36m0\u001b[0m\u001b[1;33m]\u001b[0m\u001b[1;33m)\u001b[0m\u001b[1;33m\u001b[0m\u001b[1;33m\u001b[0m\u001b[0m\n\u001b[0m",
      "\u001b[1;32m~\\Anaconda3\\lib\\site-packages\\pandas\\core\\series.py\u001b[0m in \u001b[0;36mapply\u001b[1;34m(self, func, convert_dtype, args, **kwargs)\u001b[0m\n\u001b[0;32m   4355\u001b[0m         \u001b[0mdtype\u001b[0m\u001b[1;33m:\u001b[0m \u001b[0mfloat64\u001b[0m\u001b[1;33m\u001b[0m\u001b[1;33m\u001b[0m\u001b[0m\n\u001b[0;32m   4356\u001b[0m         \"\"\"\n\u001b[1;32m-> 4357\u001b[1;33m         \u001b[1;32mreturn\u001b[0m \u001b[0mSeriesApply\u001b[0m\u001b[1;33m(\u001b[0m\u001b[0mself\u001b[0m\u001b[1;33m,\u001b[0m \u001b[0mfunc\u001b[0m\u001b[1;33m,\u001b[0m \u001b[0mconvert_dtype\u001b[0m\u001b[1;33m,\u001b[0m \u001b[0margs\u001b[0m\u001b[1;33m,\u001b[0m \u001b[0mkwargs\u001b[0m\u001b[1;33m)\u001b[0m\u001b[1;33m.\u001b[0m\u001b[0mapply\u001b[0m\u001b[1;33m(\u001b[0m\u001b[1;33m)\u001b[0m\u001b[1;33m\u001b[0m\u001b[1;33m\u001b[0m\u001b[0m\n\u001b[0m\u001b[0;32m   4358\u001b[0m \u001b[1;33m\u001b[0m\u001b[0m\n\u001b[0;32m   4359\u001b[0m     def _reduce(\n",
      "\u001b[1;32m~\\Anaconda3\\lib\\site-packages\\pandas\\core\\apply.py\u001b[0m in \u001b[0;36mapply\u001b[1;34m(self)\u001b[0m\n\u001b[0;32m   1041\u001b[0m             \u001b[1;32mreturn\u001b[0m \u001b[0mself\u001b[0m\u001b[1;33m.\u001b[0m\u001b[0mapply_str\u001b[0m\u001b[1;33m(\u001b[0m\u001b[1;33m)\u001b[0m\u001b[1;33m\u001b[0m\u001b[1;33m\u001b[0m\u001b[0m\n\u001b[0;32m   1042\u001b[0m \u001b[1;33m\u001b[0m\u001b[0m\n\u001b[1;32m-> 1043\u001b[1;33m         \u001b[1;32mreturn\u001b[0m \u001b[0mself\u001b[0m\u001b[1;33m.\u001b[0m\u001b[0mapply_standard\u001b[0m\u001b[1;33m(\u001b[0m\u001b[1;33m)\u001b[0m\u001b[1;33m\u001b[0m\u001b[1;33m\u001b[0m\u001b[0m\n\u001b[0m\u001b[0;32m   1044\u001b[0m \u001b[1;33m\u001b[0m\u001b[0m\n\u001b[0;32m   1045\u001b[0m     \u001b[1;32mdef\u001b[0m \u001b[0magg\u001b[0m\u001b[1;33m(\u001b[0m\u001b[0mself\u001b[0m\u001b[1;33m)\u001b[0m\u001b[1;33m:\u001b[0m\u001b[1;33m\u001b[0m\u001b[1;33m\u001b[0m\u001b[0m\n",
      "\u001b[1;32m~\\Anaconda3\\lib\\site-packages\\pandas\\core\\apply.py\u001b[0m in \u001b[0;36mapply_standard\u001b[1;34m(self)\u001b[0m\n\u001b[0;32m   1096\u001b[0m                 \u001b[1;31m# List[Union[Callable[..., Any], str]]]]]\"; expected\u001b[0m\u001b[1;33m\u001b[0m\u001b[1;33m\u001b[0m\u001b[0m\n\u001b[0;32m   1097\u001b[0m                 \u001b[1;31m# \"Callable[[Any], Any]\"\u001b[0m\u001b[1;33m\u001b[0m\u001b[1;33m\u001b[0m\u001b[0m\n\u001b[1;32m-> 1098\u001b[1;33m                 mapped = lib.map_infer(\n\u001b[0m\u001b[0;32m   1099\u001b[0m                     \u001b[0mvalues\u001b[0m\u001b[1;33m,\u001b[0m\u001b[1;33m\u001b[0m\u001b[1;33m\u001b[0m\u001b[0m\n\u001b[0;32m   1100\u001b[0m                     \u001b[0mf\u001b[0m\u001b[1;33m,\u001b[0m  \u001b[1;31m# type: ignore[arg-type]\u001b[0m\u001b[1;33m\u001b[0m\u001b[1;33m\u001b[0m\u001b[0m\n",
      "\u001b[1;32m~\\Anaconda3\\lib\\site-packages\\pandas\\_libs\\lib.pyx\u001b[0m in \u001b[0;36mpandas._libs.lib.map_infer\u001b[1;34m()\u001b[0m\n",
      "\u001b[1;32mc:\\temp/ipykernel_19208/1633405749.py\u001b[0m in \u001b[0;36m<lambda>\u001b[1;34m(data)\u001b[0m\n\u001b[0;32m      1\u001b[0m \u001b[1;31m# Criar uma coluna apenas com o ano da partidade\u001b[0m\u001b[1;33m\u001b[0m\u001b[1;33m\u001b[0m\u001b[0m\n\u001b[1;32m----> 2\u001b[1;33m \u001b[0mdf\u001b[0m\u001b[1;33m[\u001b[0m\u001b[1;34m'Ano'\u001b[0m\u001b[1;33m]\u001b[0m \u001b[1;33m=\u001b[0m \u001b[0mdf\u001b[0m\u001b[1;33m[\u001b[0m\u001b[1;34m'Data'\u001b[0m\u001b[1;33m]\u001b[0m\u001b[1;33m.\u001b[0m\u001b[0mapply\u001b[0m\u001b[1;33m(\u001b[0m\u001b[1;32mlambda\u001b[0m \u001b[0mdata\u001b[0m \u001b[1;33m:\u001b[0m \u001b[0mdata\u001b[0m\u001b[1;33m.\u001b[0m\u001b[0msplit\u001b[0m\u001b[1;33m(\u001b[0m\u001b[1;34m'-'\u001b[0m\u001b[1;33m)\u001b[0m\u001b[1;33m[\u001b[0m\u001b[1;36m0\u001b[0m\u001b[1;33m]\u001b[0m\u001b[1;33m)\u001b[0m\u001b[1;33m\u001b[0m\u001b[1;33m\u001b[0m\u001b[0m\n\u001b[0m",
      "\u001b[1;31mAttributeError\u001b[0m: 'float' object has no attribute 'split'"
     ]
    }
   ],
   "source": [
    "# Criar uma coluna apenas com o ano da partidade\n",
    "df['Ano'] = df['Data'].apply(lambda data : data.split('-')[0])"
   ]
  },
  {
   "cell_type": "code",
   "execution_count": 18,
   "id": "610de12d",
   "metadata": {},
   "outputs": [],
   "source": [
    "# Qual o time que mais empatou como mandante no ano de 2019?\n"
   ]
  }
 ],
 "metadata": {
  "kernelspec": {
   "display_name": "Python 3 (ipykernel)",
   "language": "python",
   "name": "python3"
  },
  "language_info": {
   "codemirror_mode": {
    "name": "ipython",
    "version": 3
   },
   "file_extension": ".py",
   "mimetype": "text/x-python",
   "name": "python",
   "nbconvert_exporter": "python",
   "pygments_lexer": "ipython3",
   "version": "3.9.7"
  }
 },
 "nbformat": 4,
 "nbformat_minor": 5
}
