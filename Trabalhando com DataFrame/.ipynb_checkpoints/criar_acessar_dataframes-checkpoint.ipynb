{
 "cells": [
  {
   "cell_type": "markdown",
   "id": "999c3322",
   "metadata": {},
   "source": [
    "# Conteúdos abordados:\n",
    "\n",
    "1. Definição de DataFrame\n",
    "\n",
    "2. Acesso aos Dados\n",
    "\n",
    "3. Outros tipos de acesso (loc)\n",
    "\n",
    "4. Séries são a base de tudo\n"
   ]
  },
  {
   "cell_type": "markdown",
   "id": "33c7dd04",
   "metadata": {},
   "source": [
    "# 1. Definição de DataFrame\n",
    "\n",
    "Um Dataframe é formado por um conjunto de séries, cada uma delas sendo uma coluna da ‘tabela’.\n",
    "\n",
    "Para criar um Dataframe, é simples! Só precisamos instanciar um objeto a partir da classe DataFrame do Pandas:"
   ]
  },
  {
   "cell_type": "code",
   "execution_count": 1,
   "id": "a05db89f",
   "metadata": {},
   "outputs": [
    {
     "data": {
      "text/html": [
       "<div>\n",
       "<style scoped>\n",
       "    .dataframe tbody tr th:only-of-type {\n",
       "        vertical-align: middle;\n",
       "    }\n",
       "\n",
       "    .dataframe tbody tr th {\n",
       "        vertical-align: top;\n",
       "    }\n",
       "\n",
       "    .dataframe thead th {\n",
       "        text-align: right;\n",
       "    }\n",
       "</style>\n",
       "<table border=\"1\" class=\"dataframe\">\n",
       "  <thead>\n",
       "    <tr style=\"text-align: right;\">\n",
       "      <th></th>\n",
       "      <th>0</th>\n",
       "    </tr>\n",
       "  </thead>\n",
       "  <tbody>\n",
       "    <tr>\n",
       "      <th>0</th>\n",
       "      <td>200</td>\n",
       "    </tr>\n",
       "    <tr>\n",
       "      <th>1</th>\n",
       "      <td>350</td>\n",
       "    </tr>\n",
       "    <tr>\n",
       "      <th>2</th>\n",
       "      <td>550</td>\n",
       "    </tr>\n",
       "  </tbody>\n",
       "</table>\n",
       "</div>"
      ],
      "text/plain": [
       "     0\n",
       "0  200\n",
       "1  350\n",
       "2  550"
      ]
     },
     "execution_count": 1,
     "metadata": {},
     "output_type": "execute_result"
    }
   ],
   "source": [
    "# Importandoa biblioteca\n",
    "import pandas as pd\n",
    "\n",
    "# Criando o DataFrame\n",
    "df = pd.DataFrame([200, 350, 550])\n",
    "\n",
    "# Mostando os dados do DataFrame\n",
    "df"
   ]
  },
  {
   "cell_type": "markdown",
   "id": "dcff94ef",
   "metadata": {},
   "source": [
    "Exemplo simples, mas já mostra que alguns componentes de um Dataframe.\n",
    "\n",
    "Assim como as séries, Dataframes possuem índices, mas também possui colunas, cada uma delas com um nome.\n",
    "\n",
    "Como não passamos explicitamente o nome das colunas, o pandas cria… adivinhem: um RangeIndex de 0 até o número de colunas menos um.\n",
    "\n",
    "Mas, vamos devagar. No exemplo anterior criamos um Dataframe a partir de uma lista.\n",
    "\n",
    "Outra forma é criar a partir de um dicionário, onde a chave é o nome da coluna e o valor, uma lista de elementos:"
   ]
  },
  {
   "cell_type": "code",
   "execution_count": 2,
   "id": "bf86df91",
   "metadata": {},
   "outputs": [
    {
     "data": {
      "text/html": [
       "<div>\n",
       "<style scoped>\n",
       "    .dataframe tbody tr th:only-of-type {\n",
       "        vertical-align: middle;\n",
       "    }\n",
       "\n",
       "    .dataframe tbody tr th {\n",
       "        vertical-align: top;\n",
       "    }\n",
       "\n",
       "    .dataframe thead th {\n",
       "        text-align: right;\n",
       "    }\n",
       "</style>\n",
       "<table border=\"1\" class=\"dataframe\">\n",
       "  <thead>\n",
       "    <tr style=\"text-align: right;\">\n",
       "      <th></th>\n",
       "      <th>calorias</th>\n",
       "      <th>gordura (%)</th>\n",
       "    </tr>\n",
       "  </thead>\n",
       "  <tbody>\n",
       "    <tr>\n",
       "      <th>0</th>\n",
       "      <td>200</td>\n",
       "      <td>0</td>\n",
       "    </tr>\n",
       "    <tr>\n",
       "      <th>1</th>\n",
       "      <td>350</td>\n",
       "      <td>6</td>\n",
       "    </tr>\n",
       "    <tr>\n",
       "      <th>2</th>\n",
       "      <td>550</td>\n",
       "      <td>15</td>\n",
       "    </tr>\n",
       "  </tbody>\n",
       "</table>\n",
       "</div>"
      ],
      "text/plain": [
       "   calorias  gordura (%)\n",
       "0       200            0\n",
       "1       350            6\n",
       "2       550           15"
      ]
     },
     "execution_count": 2,
     "metadata": {},
     "output_type": "execute_result"
    }
   ],
   "source": [
    "df = pd.DataFrame({'calorias':[200, 350, 550], 'gordura (%)':[0, 6, 15]})\n",
    "df"
   ]
  },
  {
   "cell_type": "markdown",
   "id": "6db58fc8",
   "metadata": {},
   "source": [
    "Agora, podemos alterar os índices para algo mais mnemônico, que facilite nossa vida:"
   ]
  },
  {
   "cell_type": "code",
   "execution_count": 3,
   "id": "15f7a8b2",
   "metadata": {},
   "outputs": [
    {
     "data": {
      "text/html": [
       "<div>\n",
       "<style scoped>\n",
       "    .dataframe tbody tr th:only-of-type {\n",
       "        vertical-align: middle;\n",
       "    }\n",
       "\n",
       "    .dataframe tbody tr th {\n",
       "        vertical-align: top;\n",
       "    }\n",
       "\n",
       "    .dataframe thead th {\n",
       "        text-align: right;\n",
       "    }\n",
       "</style>\n",
       "<table border=\"1\" class=\"dataframe\">\n",
       "  <thead>\n",
       "    <tr style=\"text-align: right;\">\n",
       "      <th></th>\n",
       "      <th>calorias</th>\n",
       "      <th>gordura (%)</th>\n",
       "    </tr>\n",
       "  </thead>\n",
       "  <tbody>\n",
       "    <tr>\n",
       "      <th>banana</th>\n",
       "      <td>200</td>\n",
       "      <td>0</td>\n",
       "    </tr>\n",
       "    <tr>\n",
       "      <th>prato feito</th>\n",
       "      <td>350</td>\n",
       "      <td>6</td>\n",
       "    </tr>\n",
       "    <tr>\n",
       "      <th>big mac</th>\n",
       "      <td>550</td>\n",
       "      <td>15</td>\n",
       "    </tr>\n",
       "  </tbody>\n",
       "</table>\n",
       "</div>"
      ],
      "text/plain": [
       "             calorias  gordura (%)\n",
       "banana            200            0\n",
       "prato feito       350            6\n",
       "big mac           550           15"
      ]
     },
     "execution_count": 3,
     "metadata": {},
     "output_type": "execute_result"
    }
   ],
   "source": [
    "df = pd.DataFrame({'calorias':[200, 350, 550], 'gordura (%)':[0, 6, 15]}, index=['banana', 'prato feito', 'big mac'])\n",
    "df"
   ]
  },
  {
   "cell_type": "markdown",
   "id": "e2dc0328",
   "metadata": {},
   "source": [
    "Vale lembrar que tudo que funcionava com o índice das séries também vale para os Dataframes!\n",
    "\n",
    "Agora vamos aprender a acessar os dados de um Dataframe."
   ]
  },
  {
   "cell_type": "markdown",
   "id": "29766f50",
   "metadata": {},
   "source": [
    "# 2. Acesso aos Dados\n",
    "\n",
    "Essa parte é um capítulo à parte de teremos um post detalhando várias formas de acessar os dados de um Dataframe.\n",
    "\n",
    "Alguns dos métodos, como loc, iloc, at e iat merecem bastante detalhe e exemplos, mas traremos isso pra vocês em breve!\n",
    "\n",
    "Para não perder os próximos posts e novidades que teremos pela frente: cadastre-se na nossa lista exclusiva de Pythonistas!"
   ]
  },
  {
   "cell_type": "markdown",
   "id": "7633bfb2",
   "metadata": {},
   "source": [
    "A verdade é que existem MUITAS formas de acessar os dados de um Dataframe, mas não vamos deixar os padawans na mão: a Python Academy sempre ao serviços de vocês :heart:\n",
    "\n",
    "Uma forma simples de acessar todos os valores de uma coluna de um Dataframe é utilizar o df[coluna], dessa forma:"
   ]
  },
  {
   "cell_type": "code",
   "execution_count": 4,
   "id": "cd5c9112",
   "metadata": {},
   "outputs": [
    {
     "data": {
      "text/plain": [
       "banana          0\n",
       "prato feito     6\n",
       "big mac        15\n",
       "Name: gordura (%), dtype: int64"
      ]
     },
     "execution_count": 4,
     "metadata": {},
     "output_type": "execute_result"
    }
   ],
   "source": [
    "df['gordura (%)']"
   ]
  },
  {
   "cell_type": "markdown",
   "id": "09abc1d4",
   "metadata": {},
   "source": [
    "Que estranho?! Parece uma série!\n",
    "\n",
    "Certíssimo!\n",
    "\n",
    "Lembra que dissemos que uma coluna de um Dataframe é uma série? Vamos testar:"
   ]
  },
  {
   "cell_type": "code",
   "execution_count": 5,
   "id": "135bc182",
   "metadata": {},
   "outputs": [
    {
     "data": {
      "text/plain": [
       "pandas.core.series.Series"
      ]
     },
     "execution_count": 5,
     "metadata": {},
     "output_type": "execute_result"
    }
   ],
   "source": [
    "type(df['gordura (%)'])"
   ]
  },
  {
   "cell_type": "markdown",
   "id": "8c2a56ac",
   "metadata": {},
   "source": [
    "E para acessar os valores de uma linha?\n",
    "\n",
    "Vamos recorrer aos índices!"
   ]
  },
  {
   "cell_type": "code",
   "execution_count": 6,
   "id": "c0efd00a",
   "metadata": {},
   "outputs": [
    {
     "data": {
      "text/html": [
       "<div>\n",
       "<style scoped>\n",
       "    .dataframe tbody tr th:only-of-type {\n",
       "        vertical-align: middle;\n",
       "    }\n",
       "\n",
       "    .dataframe tbody tr th {\n",
       "        vertical-align: top;\n",
       "    }\n",
       "\n",
       "    .dataframe thead th {\n",
       "        text-align: right;\n",
       "    }\n",
       "</style>\n",
       "<table border=\"1\" class=\"dataframe\">\n",
       "  <thead>\n",
       "    <tr style=\"text-align: right;\">\n",
       "      <th></th>\n",
       "      <th>calorias</th>\n",
       "      <th>gordura (%)</th>\n",
       "    </tr>\n",
       "  </thead>\n",
       "  <tbody>\n",
       "    <tr>\n",
       "      <th>0</th>\n",
       "      <td>200</td>\n",
       "      <td>0</td>\n",
       "    </tr>\n",
       "    <tr>\n",
       "      <th>1</th>\n",
       "      <td>350</td>\n",
       "      <td>6</td>\n",
       "    </tr>\n",
       "    <tr>\n",
       "      <th>2</th>\n",
       "      <td>550</td>\n",
       "      <td>15</td>\n",
       "    </tr>\n",
       "  </tbody>\n",
       "</table>\n",
       "</div>"
      ],
      "text/plain": [
       "   calorias  gordura (%)\n",
       "0       200            0\n",
       "1       350            6\n",
       "2       550           15"
      ]
     },
     "execution_count": 6,
     "metadata": {},
     "output_type": "execute_result"
    }
   ],
   "source": [
    "df = pd.DataFrame({'calorias':[200, 350, 550], 'gordura (%)':[0, 6, 15]})\n",
    "df"
   ]
  },
  {
   "cell_type": "markdown",
   "id": "01ce2896",
   "metadata": {},
   "source": [
    "Nesse caso, como não criamos o índice, ele é numérico e corresponde à posição de cada linha.\n",
    "\n",
    "Uma forma é acessar como acessamos elementos de uma lista, utilizando slice:"
   ]
  },
  {
   "cell_type": "code",
   "execution_count": 7,
   "id": "64e9c8ab",
   "metadata": {},
   "outputs": [
    {
     "data": {
      "text/html": [
       "<div>\n",
       "<style scoped>\n",
       "    .dataframe tbody tr th:only-of-type {\n",
       "        vertical-align: middle;\n",
       "    }\n",
       "\n",
       "    .dataframe tbody tr th {\n",
       "        vertical-align: top;\n",
       "    }\n",
       "\n",
       "    .dataframe thead th {\n",
       "        text-align: right;\n",
       "    }\n",
       "</style>\n",
       "<table border=\"1\" class=\"dataframe\">\n",
       "  <thead>\n",
       "    <tr style=\"text-align: right;\">\n",
       "      <th></th>\n",
       "      <th>calorias</th>\n",
       "      <th>gordura (%)</th>\n",
       "    </tr>\n",
       "  </thead>\n",
       "  <tbody>\n",
       "    <tr>\n",
       "      <th>1</th>\n",
       "      <td>350</td>\n",
       "      <td>6</td>\n",
       "    </tr>\n",
       "  </tbody>\n",
       "</table>\n",
       "</div>"
      ],
      "text/plain": [
       "   calorias  gordura (%)\n",
       "1       350            6"
      ]
     },
     "execution_count": 7,
     "metadata": {},
     "output_type": "execute_result"
    }
   ],
   "source": [
    "df[1:2]"
   ]
  },
  {
   "cell_type": "markdown",
   "id": "8b0f8850",
   "metadata": {},
   "source": [
    "# 3. Outros tipos de acesso (loc)\n",
    "\n",
    "Adiantando um assunto importante, podemos também utilizar o método loc, que acessa por meio do índice:"
   ]
  },
  {
   "cell_type": "code",
   "execution_count": 8,
   "id": "8e0285b5",
   "metadata": {},
   "outputs": [
    {
     "data": {
      "text/plain": [
       "calorias       200\n",
       "gordura (%)      0\n",
       "Name: 0, dtype: int64"
      ]
     },
     "execution_count": 8,
     "metadata": {},
     "output_type": "execute_result"
    }
   ],
   "source": [
    "df.loc[0]"
   ]
  },
  {
   "cell_type": "markdown",
   "id": "061d49cc",
   "metadata": {},
   "source": [
    "Percebam que a apresentação dos dois resultados é bem diferente!\n",
    "\n",
    "Isso porque utilizando slice, o resultado é um novo Dataframe com as linhas selecionadas.\n",
    "\n",
    "No segundo caso, o loc retorna uma série com os valores da linha selecionada.\n",
    "\n",
    "Outro assunto que traremos pra vocês em mais detalhes: quando temos Dataframes, Séries e Cópias como resultados."
   ]
  },
  {
   "cell_type": "markdown",
   "id": "d6d99468",
   "metadata": {},
   "source": [
    "# 4. Séries são a base de tudo\n",
    "\n",
    "Peraí, peraí: a Série não era uma coluna, agora é uma linha?\n",
    "\n",
    "Ótima pergunta, Pythonista!\n",
    "\n",
    "Olha que legal, o Pandas retorna tanto uma coluna como uma linha completa (com o respectivo índice) como uma Série!\n",
    "\n",
    "Uma série “coluna” possui um nome (o título da caluna), os valores (elementos da coluna) bem como o tipo.\n",
    "\n",
    "De forma similiar, uma série “linha” possui um nome (o índice que referencia a linha), os valores (elementos de uma linha) bem como tipo.\n",
    "\n",
    "As séries são tão flexíveis e são uma mão na roda para representar os dados, não é à toa que os Cientistas de Dados utilizam Dataframes sempre que possível."
   ]
  },
  {
   "cell_type": "code",
   "execution_count": null,
   "id": "6bb620f9",
   "metadata": {},
   "outputs": [],
   "source": []
  }
 ],
 "metadata": {
  "kernelspec": {
   "display_name": "Python 3 (ipykernel)",
   "language": "python",
   "name": "python3"
  },
  "language_info": {
   "codemirror_mode": {
    "name": "ipython",
    "version": 3
   },
   "file_extension": ".py",
   "mimetype": "text/x-python",
   "name": "python",
   "nbconvert_exporter": "python",
   "pygments_lexer": "ipython3",
   "version": "3.9.7"
  }
 },
 "nbformat": 4,
 "nbformat_minor": 5
}
