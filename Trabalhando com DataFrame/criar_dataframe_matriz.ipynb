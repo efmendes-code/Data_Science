{
 "cells": [
  {
   "cell_type": "markdown",
   "id": "d5751d05",
   "metadata": {},
   "source": [
    "# Criando um DataFrame do Pandas a partir de uma matriz Numpy"
   ]
  },
  {
   "cell_type": "code",
   "execution_count": 1,
   "id": "68bc79a9",
   "metadata": {},
   "outputs": [],
   "source": [
    "import numpy as np\n",
    "import pandas as pd"
   ]
  },
  {
   "cell_type": "code",
   "execution_count": 2,
   "id": "da3f286e",
   "metadata": {},
   "outputs": [
    {
     "name": "stdout",
     "output_type": "stream",
     "text": [
      "[[5.8 2.8]\n",
      " [6.  2.2]]\n"
     ]
    }
   ],
   "source": [
    "# Creating a 2 dimensional numpy array\n",
    "data = np.array([[5.8, 2.8], [6.0, 2.2]])\n",
    "print(data)"
   ]
  },
  {
   "cell_type": "code",
   "execution_count": 3,
   "id": "4ad9692e",
   "metadata": {},
   "outputs": [
    {
     "name": "stdout",
     "output_type": "stream",
     "text": [
      "   Column1  Column2\n",
      "0      5.8      2.8\n",
      "1      6.0      2.2\n"
     ]
    }
   ],
   "source": [
    "# Creating pandas dataframe from numpy array\n",
    "dataset = pd.DataFrame({'Column1': data[:, 0], 'Column2': data[:, 1]})\n",
    "print(dataset)"
   ]
  },
  {
   "cell_type": "code",
   "execution_count": null,
   "id": "2ffac521",
   "metadata": {},
   "outputs": [],
   "source": []
  }
 ],
 "metadata": {
  "kernelspec": {
   "display_name": "Python 3 (ipykernel)",
   "language": "python",
   "name": "python3"
  },
  "language_info": {
   "codemirror_mode": {
    "name": "ipython",
    "version": 3
   },
   "file_extension": ".py",
   "mimetype": "text/x-python",
   "name": "python",
   "nbconvert_exporter": "python",
   "pygments_lexer": "ipython3",
   "version": "3.9.7"
  }
 },
 "nbformat": 4,
 "nbformat_minor": 5
}
