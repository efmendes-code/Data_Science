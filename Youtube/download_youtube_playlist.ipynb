{
 "cells": [
  {
   "cell_type": "markdown",
   "id": "ccf63c5d",
   "metadata": {},
   "source": [
    "# Download de uma Playlist do Youtube - Baixa os vídeos da playlist e grava em um local determinado."
   ]
  },
  {
   "cell_type": "code",
   "execution_count": 14,
   "id": "85976ce3",
   "metadata": {},
   "outputs": [],
   "source": [
    "# Importa as bibliotecas\n",
    "# Atenção: Caso ocorra algum erro com a instalação da biblioteca - execute o seguinte comando\n",
    "# python -m pip install --upgrade pytube\n",
    "from pytube import Playlist"
   ]
  },
  {
   "cell_type": "markdown",
   "id": "f8c7314b",
   "metadata": {},
   "source": [
    "# Solicita o link da playlist e o local onde os vídeos serão gravados"
   ]
  },
  {
   "cell_type": "code",
   "execution_count": 15,
   "id": "a98b3473",
   "metadata": {},
   "outputs": [
    {
     "name": "stdout",
     "output_type": "stream",
     "text": [
      "Digite o link da playlist que deseja baixar: https://www.youtube.com/watch?v=AuDLqrascI4&list=PLTlnodS2cwBAV8APVRZI-gjGC0F_j4vvy\n",
      "Destino do download: C:\\Youtube5\n"
     ]
    }
   ],
   "source": [
    "# Solicita o link da playlist e o local para gravação\n",
    "# Exemplo de link: https://www.youtube.com/watch?v=TBdRfrWT7Co&list=PLnNURxKyyLIKX73U7hISjIY7T5KiNNLu_\n",
    "plyt = Playlist(input('Digite o link da playlist que deseja baixar: '))\n",
    " \n",
    "# exemplo de path: C:\\Youtube (caso a pasta não exista é criada automáticamente)\n",
    "path = input('Destino do download: ')"
   ]
  },
  {
   "cell_type": "markdown",
   "id": "1993b265",
   "metadata": {},
   "source": [
    "# Inicia o download dos vídeos da playlist determinada"
   ]
  },
  {
   "cell_type": "code",
   "execution_count": 16,
   "id": "e32fdc6c",
   "metadata": {},
   "outputs": [
    {
     "name": "stdout",
     "output_type": "stream",
     "text": [
      "Iniciando o download dos vídeos da playlist: Top Sertanejo 2021 - O Melhor Do Sertanejo Universitário 2021 - As Mais Tocadas 2021\n",
      "\n",
      "Baixando o vídeo 1/7 - Top Sertanejo 2021 - O Melhor Do Sertanejo Universitário 2021 - As Mais Tocadas 2021\n",
      "Baixando o vídeo 2/7 - Top Sertanejo 2021 - O Melhor Do Sertanejo Universitário 2021 - As Mais Tocadas 2021\n",
      "Baixando o vídeo 3/7 - Top Sertanejo 2021 - O Melhor Do Sertanejo Universitário 2021 - As Mais Tocadas 2021\n",
      "Baixando o vídeo 4/7 - Top Sertanejo 2021 - O Melhor Do Sertanejo Universitário 2021 - As Mais Tocadas 2021\n",
      "Baixando o vídeo 5/7 - Top Sertanejo 2021 - O Melhor Do Sertanejo Universitário 2021 - As Mais Tocadas 2021\n",
      "Baixando o vídeo 6/7 - Top Sertanejo 2021 - O Melhor Do Sertanejo Universitário 2021 - As Mais Tocadas 2021\n",
      "Baixando o vídeo 7/7 - Top Sertanejo 2021 - O Melhor Do Sertanejo Universitário 2021 - As Mais Tocadas 2021\n",
      "Todos os vídeos foram baixados\n"
     ]
    }
   ],
   "source": [
    "print(f'Iniciando o download dos vídeos da playlist: {plyt.title}\\n')\n",
    "\n",
    "for indice, video in enumerate(plyt.videos):\n",
    "    print(f'Baixando o vídeo {indice + 1}/{len(plyt)} - {plyt.title}')\n",
    "    video.streams.first().download(path)\n",
    "    \n",
    "print('Todos os vídeos foram baixados')"
   ]
  },
  {
   "cell_type": "code",
   "execution_count": null,
   "id": "9a71fd69",
   "metadata": {},
   "outputs": [],
   "source": []
  }
 ],
 "metadata": {
  "kernelspec": {
   "display_name": "Python 3 (ipykernel)",
   "language": "python",
   "name": "python3"
  },
  "language_info": {
   "codemirror_mode": {
    "name": "ipython",
    "version": 3
   },
   "file_extension": ".py",
   "mimetype": "text/x-python",
   "name": "python",
   "nbconvert_exporter": "python",
   "pygments_lexer": "ipython3",
   "version": "3.9.7"
  }
 },
 "nbformat": 4,
 "nbformat_minor": 5
}
