{
 "cells": [
  {
   "cell_type": "markdown",
   "id": "e6f23201",
   "metadata": {},
   "source": [
    "# Manipulação de Strings"
   ]
  },
  {
   "cell_type": "markdown",
   "id": "998676ab",
   "metadata": {},
   "source": [
    "Um tipo de dado bastante usado no dia a dia são as 'strings', ou cadeias de caracteres (ou sequências de caracteres). O tipo de dados 'string', ou 'str' como é chamado em Python, possui várias operações úteis associadas a ele."
   ]
  },
  {
   "cell_type": "markdown",
   "id": "6f5dbbf9",
   "metadata": {},
   "source": [
    "# Verificar o tipo de informação"
   ]
  },
  {
   "cell_type": "code",
   "execution_count": 1,
   "id": "d4746aea",
   "metadata": {},
   "outputs": [
    {
     "name": "stdout",
     "output_type": "stream",
     "text": [
      "<class 'str'>\n"
     ]
    }
   ],
   "source": [
    "String = 'Ola Mundo!'\n",
    "print(type(String))"
   ]
  },
  {
   "cell_type": "markdown",
   "id": "f13987c0",
   "metadata": {},
   "source": [
    "# Tamanho de um String"
   ]
  },
  {
   "cell_type": "code",
   "execution_count": 4,
   "id": "1aed6835",
   "metadata": {},
   "outputs": [
    {
     "name": "stdout",
     "output_type": "stream",
     "text": [
      "10\n"
     ]
    }
   ],
   "source": [
    "String = 'Ola Mundo!'\n",
    "print(len(String))"
   ]
  },
  {
   "cell_type": "markdown",
   "id": "3237fcf3",
   "metadata": {},
   "source": [
    "# Concatenação de uma String"
   ]
  },
  {
   "cell_type": "code",
   "execution_count": 5,
   "id": "cfb9ad13",
   "metadata": {},
   "outputs": [
    {
     "name": "stdout",
     "output_type": "stream",
     "text": [
      "Ola Mundo! Estou aprendendo Python\n"
     ]
    }
   ],
   "source": [
    "String = 'Ola Mundo!'\n",
    "print(String + ' Estou aprendendo Python')"
   ]
  },
  {
   "cell_type": "markdown",
   "id": "ff224ad4",
   "metadata": {},
   "source": [
    "# Substituir uma String"
   ]
  },
  {
   "cell_type": "code",
   "execution_count": 9,
   "id": "7ecf1492",
   "metadata": {},
   "outputs": [
    {
     "name": "stdout",
     "output_type": "stream",
     "text": [
      "Ola Mundo Louco :X!\n"
     ]
    }
   ],
   "source": [
    "String = 'Ola Mundão!'\n",
    "Substituir = String.replace('Mundão','Mundo Louco :X')\n",
    "print(Substituir)"
   ]
  },
  {
   "cell_type": "markdown",
   "id": "671ca164",
   "metadata": {},
   "source": [
    "# Checando uma String"
   ]
  },
  {
   "cell_type": "code",
   "execution_count": 10,
   "id": "4a99e258",
   "metadata": {},
   "outputs": [
    {
     "name": "stdout",
     "output_type": "stream",
     "text": [
      "True\n"
     ]
    }
   ],
   "source": [
    "String = 'Ola Mundão!'\n",
    "# String começa com 'ola'\n",
    "print(String.startswith('Ola'))"
   ]
  },
  {
   "cell_type": "code",
   "execution_count": 11,
   "id": "f9e8f5df",
   "metadata": {},
   "outputs": [
    {
     "name": "stdout",
     "output_type": "stream",
     "text": [
      "False\n"
     ]
    }
   ],
   "source": [
    "String = 'Ola Mundão!'\n",
    "# String termina com 'mundo'\n",
    "print(String.startswith('Mundo'))"
   ]
  },
  {
   "cell_type": "markdown",
   "id": "0b847365",
   "metadata": {},
   "source": [
    "# Calcular frequencia"
   ]
  },
  {
   "cell_type": "code",
   "execution_count": 12,
   "id": "c274900f",
   "metadata": {},
   "outputs": [
    {
     "name": "stdout",
     "output_type": "stream",
     "text": [
      "1\n"
     ]
    }
   ],
   "source": [
    "String = 'Ola Mundão!'\n",
    "# Quantas ocorrências da palavra \"M\" a string possui?\n",
    "print(String.count('M'))"
   ]
  },
  {
   "cell_type": "markdown",
   "id": "9ec909db",
   "metadata": {},
   "source": [
    "# Fatiando um String"
   ]
  },
  {
   "cell_type": "code",
   "execution_count": 13,
   "id": "45bc9407",
   "metadata": {},
   "outputs": [
    {
     "name": "stdout",
     "output_type": "stream",
     "text": [
      "['Loja 1 vendeu 10', ' Loja 2 vendeu 20', ' Loja 3 vendeu 30']\n"
     ]
    }
   ],
   "source": [
    "String_06 = 'Loja 1 vendeu 10, Loja 2 vendeu 20, Loja 3 vendeu 30'\n",
    "print(String_06.split(','))"
   ]
  },
  {
   "cell_type": "markdown",
   "id": "ab4744ac",
   "metadata": {},
   "source": [
    "# Transformar Strings"
   ]
  },
  {
   "cell_type": "code",
   "execution_count": 14,
   "id": "68fa0240",
   "metadata": {},
   "outputs": [
    {
     "name": "stdout",
     "output_type": "stream",
     "text": [
      "Odemir depieri\n"
     ]
    }
   ],
   "source": [
    "# Capitalize - Transformar a primeira letra da primeira palavra em maiúscula\n",
    "String_02 = 'odemir depieri'\n",
    "print(String_02.capitalize())"
   ]
  },
  {
   "cell_type": "markdown",
   "id": "f154adb6",
   "metadata": {},
   "source": [
    "# Verificar valores em uma String"
   ]
  },
  {
   "cell_type": "code",
   "execution_count": 15,
   "id": "2dae0a6b",
   "metadata": {},
   "outputs": [
    {
     "name": "stdout",
     "output_type": "stream",
     "text": [
      "True\n",
      "False\n"
     ]
    }
   ],
   "source": [
    "# Veificar se uma string só possui números\n",
    "String_03 = '123456789'\n",
    "String_04 = '123456789ABC'\n",
    "print(String_03.isdigit())\n",
    "print(String_04.isdigit())"
   ]
  },
  {
   "cell_type": "markdown",
   "id": "26e86e6e",
   "metadata": {},
   "source": [
    "# Verificar valores em uma String"
   ]
  },
  {
   "cell_type": "code",
   "execution_count": 17,
   "id": "b08a057b",
   "metadata": {},
   "outputs": [
    {
     "name": "stdout",
     "output_type": "stream",
     "text": [
      "True\n"
     ]
    }
   ],
   "source": [
    "# Verificar se uma string é alfanumérica (só possui letras e números)\n",
    "print('12345abc'.isalnum())"
   ]
  },
  {
   "cell_type": "markdown",
   "id": "9a6ff27e",
   "metadata": {},
   "source": [
    "# Transformando String"
   ]
  },
  {
   "cell_type": "code",
   "execution_count": 20,
   "id": "b1dd683c",
   "metadata": {},
   "outputs": [
    {
     "name": "stdout",
     "output_type": "stream",
     "text": [
      "OLA MUNDÃO!\n"
     ]
    }
   ],
   "source": [
    "String = 'Ola Mundão!'\n",
    "# Transformar tudo em Maiusculo\n",
    "print(String.upper())"
   ]
  },
  {
   "cell_type": "markdown",
   "id": "6d26dc58",
   "metadata": {},
   "source": [
    "# Transformando String"
   ]
  },
  {
   "cell_type": "code",
   "execution_count": 22,
   "id": "827e07e9",
   "metadata": {},
   "outputs": [
    {
     "name": "stdout",
     "output_type": "stream",
     "text": [
      "ola mundão!\n"
     ]
    }
   ],
   "source": [
    "String = 'Ola Mundão!'\n",
    "# Transformar tudo em Minúsculo\n",
    "print(String.lower())"
   ]
  },
  {
   "cell_type": "markdown",
   "id": "0df3ef24",
   "metadata": {},
   "source": [
    "# Procurando algo na String"
   ]
  },
  {
   "cell_type": "code",
   "execution_count": 23,
   "id": "8d84092d",
   "metadata": {},
   "outputs": [
    {
     "name": "stdout",
     "output_type": "stream",
     "text": [
      "10\n"
     ]
    }
   ],
   "source": [
    "String = 'Ola Mundão!'\n",
    "# Procurar algo na string\n",
    "print(String.find('!'))"
   ]
  },
  {
   "cell_type": "markdown",
   "id": "caf87a6c",
   "metadata": {},
   "source": [
    "# Manipulando algo na String"
   ]
  },
  {
   "cell_type": "code",
   "execution_count": 25,
   "id": "2af2cc8f",
   "metadata": {},
   "outputs": [
    {
     "name": "stdout",
     "output_type": "stream",
     "text": [
      "Ola Mundão!\n"
     ]
    }
   ],
   "source": [
    "# Removendo espaços antes e no fim das palavras\n",
    "String_05 = ' Ola Mundão! '\n",
    "print(String_05.strip())"
   ]
  },
  {
   "cell_type": "code",
   "execution_count": null,
   "id": "4c83575c",
   "metadata": {},
   "outputs": [],
   "source": []
  }
 ],
 "metadata": {
  "kernelspec": {
   "display_name": "Python 3 (ipykernel)",
   "language": "python",
   "name": "python3"
  },
  "language_info": {
   "codemirror_mode": {
    "name": "ipython",
    "version": 3
   },
   "file_extension": ".py",
   "mimetype": "text/x-python",
   "name": "python",
   "nbconvert_exporter": "python",
   "pygments_lexer": "ipython3",
   "version": "3.9.7"
  }
 },
 "nbformat": 4,
 "nbformat_minor": 5
}
